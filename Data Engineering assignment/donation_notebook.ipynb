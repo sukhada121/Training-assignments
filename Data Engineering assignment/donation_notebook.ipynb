{
 "cells": [
  {
   "cell_type": "markdown",
   "metadata": {},
   "source": []
  },
  {
   "cell_type": "code",
   "execution_count": 83,
   "metadata": {},
   "outputs": [],
   "source": [
    "import pyspark\n",
    "from pyspark.sql import SparkSession\n",
    "\n",
    "spark = SparkSession \\\n",
    "    .builder \\\n",
    "    .appName(\"Python Spark Donation usecase\") \\\n",
    "    .config(\"spark.some.config.option\", \"some-value\") \\\n",
    "    .getOrCreate()"
   ]
  },
  {
   "cell_type": "markdown",
   "metadata": {},
   "source": [
    "Reading json file"
   ]
  },
  {
   "cell_type": "code",
   "execution_count": 84,
   "metadata": {},
   "outputs": [
    {
     "name": "stdout",
     "output_type": "stream",
     "text": [
      "root\n",
      " |-- Address: string (nullable = true)\n",
      " |-- Amount: string (nullable = true)\n",
      " |-- Contribution Mode: string (nullable = true)\n",
      " |-- Financial Year: string (nullable = true)\n",
      " |-- Name: string (nullable = true)\n",
      " |-- PAN Given: string (nullable = true)\n",
      " |-- Party: string (nullable = true)\n",
      " |-- Type: string (nullable = true)\n",
      " |-- _corrupt_record: string (nullable = true)\n",
      " |-- field10: string (nullable = true)\n",
      " |-- field11: string (nullable = true)\n",
      " |-- field12: string (nullable = true)\n",
      " |-- field13: string (nullable = true)\n",
      " |-- field14: string (nullable = true)\n",
      " |-- field9: string (nullable = true)\n",
      "\n",
      "+--------------------+--------+--------------------+--------------+--------------------+---------+------+------+---------------+-------+-------+-------+-------+-------+------+\n",
      "|             Address|  Amount|   Contribution Mode|Financial Year|                Name|PAN Given| Party|  Type|_corrupt_record|field10|field11|field12|field13|field14|field9|\n",
      "+--------------------+--------+--------------------+--------------+--------------------+---------+------+------+---------------+-------+-------+-------+-------+-------+------+\n",
      "|                null|    null|                null|          null|                null|     null|  null|  null|              [|   null|   null|   null|   null|   null|  null|\n",
      "|16-B, Ferozeshah ...| 3000000|                CASH|       2010-11|          Aziz Pasha|        Y|   CPI|Others|           null|       |       |       |       |       |      |\n",
      "|No.1, First Floor...|10000000|000037, HDFC Bank...|       2014-15|    V K Ramachandran|        Y|CPI(M)|Others|           null|       |       |       |       |       |      |\n",
      "|3, Motilal Nehru ...|  108000|Cheque, State Ban...|       2014-15|  Dr. Manmohan Singh|        N|   INC|Others|           null|       |       |       |       |       |      |\n",
      "|9,Firozshah Road ...|   54000|Through Bank Tran...|       2011-12| Dr. Manda Jagnathan|        N|   INC|Others|           null|       |       |       |       |       |      |\n",
      "|17,Dr.B.R.Mehta L...|   54000|Through Bank Tran...|       2011-12|    Prof. K.V.Thomas|        N|   INC|Others|           null|       |       |       |       |       |      |\n",
      "|31 Shamla Hills B...|  100000|          146865 SBI|       2011-12|     Sweta Chyouksey|        Y|   BJP|Others|           null|       |       |       |       |       |      |\n",
      "|45 Bunglows Bhopa...|  100000|          994966 SBI|       2011-12|   Uma Shankar Gupta|        N|   BJP|Others|           null|       |       |       |       |       |      |\n",
      "|                  --|   25000|14021,  Union Ban...|       2013-14|Parshwanath Bhakt...|        N|   BJP|Others|           null|       |       |       |       |       |      |\n",
      "|9 Santoshi Ayodhy...|  100000|          168278 SBI|       2011-12|Anand Constructio...|        Y|   BJP|Others|           null|       |       |       |       |       |      |\n",
      "|197, North Avenue...|   54000|       Bank Transfer|       2013-14|       Kamal Kashore|        N|   INC|Others|           null|       |       |       |       |       |      |\n",
      "|              Mumbai|  100000|955592 Bank Of In...|       2004-05|          R.V Pandit|        N|   BJP|Others|           null|       |       |       |       |       |      |\n",
      "|                  --|  100000|              430969|       2012-13|      A & T Infracon|        N|   BJP|Others|           null|       |       |       |       |       |      |\n",
      "|G/3 Phonix Buildi...|  300000|Cheque No.884045 ...|       2008-09|A 2 Z online  Ser...|        N|   BJP|Others|           null|       |       |       |       |       |      |\n",
      "|G/3 Phonix Buildi...|  200000|Cheque No-  88404...|       2008-09|A 2 Z online  Ser...|        N|   BJP|Others|           null|       |       |       |       |       |      |\n",
      "|G/3 Phonix Buildi...|  200000|Cheque No-  88404...|       2008-09|A 2 Z online  Ser...|        N|   BJP|Others|           null|       |       |       |       |       |      |\n",
      "|                  --|  125000|952450, Saraswat ...|       2012-13|A B Rolling Mills...|        N|   BJP|Others|           null|       |       |       |       |       |      |\n",
      "|82, Narbada Road ...|  100000|72437 Allahabad Bank|       2011-12|           A C Dixit|        N|   BJP|Others|           null|       |       |       |       |       |      |\n",
      "|S.F.S. Tirupati A...|  100000|174993, Union Ban...|       2014-15|        A D Builders|        Y|   BJP|Others|           null|       |       |       |       |       |      |\n",
      "|                  --|   21000|            234, BOI|       2012-13|               A Fox|        N|   BJP|Others|           null|       |       |       |       |       |      |\n",
      "+--------------------+--------+--------------------+--------------+--------------------+---------+------+------+---------------+-------+-------+-------+-------+-------+------+\n",
      "only showing top 20 rows\n",
      "\n"
     ]
    }
   ],
   "source": [
    "df = spark.read.json(\"donation_np.json\")\n",
    "df.printSchema()\n",
    "df.show()"
   ]
  },
  {
   "cell_type": "markdown",
   "metadata": {},
   "source": [
    "Task 1: Change column names"
   ]
  },
  {
   "cell_type": "code",
   "execution_count": 85,
   "metadata": {},
   "outputs": [],
   "source": [
    "df=df.withColumnRenamed(\"Contribution Mode\",\"mode_of_payment\")\\\n",
    "    .withColumnRenamed(\"Financial Year\",\"fin_year\")\\\n",
    "        .withColumnRenamed(\"PAN Given\",\"pan_given\")\n"
   ]
  },
  {
   "cell_type": "code",
   "execution_count": 86,
   "metadata": {},
   "outputs": [
    {
     "name": "stdout",
     "output_type": "stream",
     "text": [
      "root\n",
      " |-- Address: string (nullable = true)\n",
      " |-- Amount: string (nullable = true)\n",
      " |-- mode_of_payment: string (nullable = true)\n",
      " |-- fin_year: string (nullable = true)\n",
      " |-- Name: string (nullable = true)\n",
      " |-- pan_given: string (nullable = true)\n",
      " |-- Party: string (nullable = true)\n",
      " |-- Type: string (nullable = true)\n",
      " |-- _corrupt_record: string (nullable = true)\n",
      " |-- field10: string (nullable = true)\n",
      " |-- field11: string (nullable = true)\n",
      " |-- field12: string (nullable = true)\n",
      " |-- field13: string (nullable = true)\n",
      " |-- field14: string (nullable = true)\n",
      " |-- field9: string (nullable = true)\n",
      "\n"
     ]
    }
   ],
   "source": [
    "df.printSchema()"
   ]
  },
  {
   "cell_type": "markdown",
   "metadata": {},
   "source": [
    "Dropping rows with null values:"
   ]
  },
  {
   "cell_type": "code",
   "execution_count": 87,
   "metadata": {},
   "outputs": [],
   "source": [
    "df=df.na.drop(subset=['Name'])\n"
   ]
  },
  {
   "cell_type": "code",
   "execution_count": 88,
   "metadata": {},
   "outputs": [
    {
     "name": "stdout",
     "output_type": "stream",
     "text": [
      "+--------------------+--------+--------------------+--------+-------------------+---------+------+------+---------------+-------+-------+-------+-------+-------+------+\n",
      "|             Address|  Amount|     mode_of_payment|fin_year|               Name|pan_given| Party|  Type|_corrupt_record|field10|field11|field12|field13|field14|field9|\n",
      "+--------------------+--------+--------------------+--------+-------------------+---------+------+------+---------------+-------+-------+-------+-------+-------+------+\n",
      "|16-B, Ferozeshah ...| 3000000|                CASH| 2010-11|         Aziz Pasha|        Y|   CPI|Others|           null|       |       |       |       |       |      |\n",
      "|No.1, First Floor...|10000000|000037, HDFC Bank...| 2014-15|   V K Ramachandran|        Y|CPI(M)|Others|           null|       |       |       |       |       |      |\n",
      "|3, Motilal Nehru ...|  108000|Cheque, State Ban...| 2014-15| Dr. Manmohan Singh|        N|   INC|Others|           null|       |       |       |       |       |      |\n",
      "|9,Firozshah Road ...|   54000|Through Bank Tran...| 2011-12|Dr. Manda Jagnathan|        N|   INC|Others|           null|       |       |       |       |       |      |\n",
      "|17,Dr.B.R.Mehta L...|   54000|Through Bank Tran...| 2011-12|   Prof. K.V.Thomas|        N|   INC|Others|           null|       |       |       |       |       |      |\n",
      "+--------------------+--------+--------------------+--------+-------------------+---------+------+------+---------------+-------+-------+-------+-------+-------+------+\n",
      "only showing top 5 rows\n",
      "\n"
     ]
    }
   ],
   "source": [
    "df.show(5)"
   ]
  },
  {
   "cell_type": "code",
   "execution_count": 89,
   "metadata": {},
   "outputs": [
    {
     "data": {
      "text/plain": [
       "['Address',\n",
       " 'Amount',\n",
       " 'mode_of_payment',\n",
       " 'fin_year',\n",
       " 'Name',\n",
       " 'pan_given',\n",
       " 'Party',\n",
       " 'Type',\n",
       " '_corrupt_record',\n",
       " 'field10',\n",
       " 'field11',\n",
       " 'field12',\n",
       " 'field13',\n",
       " 'field14',\n",
       " 'field9']"
      ]
     },
     "execution_count": 89,
     "metadata": {},
     "output_type": "execute_result"
    }
   ],
   "source": [
    "df.columns"
   ]
  },
  {
   "cell_type": "markdown",
   "metadata": {},
   "source": [
    "Dropping unnecessary columns:"
   ]
  },
  {
   "cell_type": "code",
   "execution_count": 90,
   "metadata": {},
   "outputs": [],
   "source": [
    "df=df.drop(\"_corrupt_record\",\"field10\",\"field11\",\"field12\",\"field13\",\"field14\",\"field9\")\n",
    "   "
   ]
  },
  {
   "cell_type": "code",
   "execution_count": 91,
   "metadata": {},
   "outputs": [
    {
     "data": {
      "text/plain": [
       "['Address',\n",
       " 'Amount',\n",
       " 'mode_of_payment',\n",
       " 'fin_year',\n",
       " 'Name',\n",
       " 'pan_given',\n",
       " 'Party',\n",
       " 'Type']"
      ]
     },
     "execution_count": 91,
     "metadata": {},
     "output_type": "execute_result"
    }
   ],
   "source": [
    "df.columns\n"
   ]
  },
  {
   "cell_type": "code",
   "execution_count": 92,
   "metadata": {},
   "outputs": [
    {
     "name": "stdout",
     "output_type": "stream",
     "text": [
      "+--------------------+--------+--------------------+--------+-------------------+---------+------+------+\n",
      "|             Address|  Amount|     mode_of_payment|fin_year|               Name|pan_given| Party|  Type|\n",
      "+--------------------+--------+--------------------+--------+-------------------+---------+------+------+\n",
      "|16-B, Ferozeshah ...| 3000000|                CASH| 2010-11|         Aziz Pasha|        Y|   CPI|Others|\n",
      "|No.1, First Floor...|10000000|000037, HDFC Bank...| 2014-15|   V K Ramachandran|        Y|CPI(M)|Others|\n",
      "|3, Motilal Nehru ...|  108000|Cheque, State Ban...| 2014-15| Dr. Manmohan Singh|        N|   INC|Others|\n",
      "|9,Firozshah Road ...|   54000|Through Bank Tran...| 2011-12|Dr. Manda Jagnathan|        N|   INC|Others|\n",
      "|17,Dr.B.R.Mehta L...|   54000|Through Bank Tran...| 2011-12|   Prof. K.V.Thomas|        N|   INC|Others|\n",
      "+--------------------+--------+--------------------+--------+-------------------+---------+------+------+\n",
      "only showing top 5 rows\n",
      "\n"
     ]
    }
   ],
   "source": [
    "df.show(5)"
   ]
  },
  {
   "cell_type": "markdown",
   "metadata": {},
   "source": [
    "Task 2: Encrypt Address column"
   ]
  },
  {
   "cell_type": "code",
   "execution_count": 93,
   "metadata": {},
   "outputs": [],
   "source": [
    "from pyspark.sql.functions import sha2,concat_ws\n",
    "\n",
    "df=df.withColumn(\"Address\", sha2(concat_ws(\"||\", df.Address), 256))\n"
   ]
  },
  {
   "cell_type": "code",
   "execution_count": 94,
   "metadata": {},
   "outputs": [
    {
     "name": "stdout",
     "output_type": "stream",
     "text": [
      "+--------------------+--------+--------------------+--------+--------------------+---------+------+------+\n",
      "|             Address|  Amount|     mode_of_payment|fin_year|                Name|pan_given| Party|  Type|\n",
      "+--------------------+--------+--------------------+--------+--------------------+---------+------+------+\n",
      "|5a3058deb6f337958...| 3000000|                CASH| 2010-11|          Aziz Pasha|        Y|   CPI|Others|\n",
      "|846539cb21bc9e6c6...|10000000|000037, HDFC Bank...| 2014-15|    V K Ramachandran|        Y|CPI(M)|Others|\n",
      "|869fa3a19f1c51ad1...|  108000|Cheque, State Ban...| 2014-15|  Dr. Manmohan Singh|        N|   INC|Others|\n",
      "|5f04f40130569ddab...|   54000|Through Bank Tran...| 2011-12| Dr. Manda Jagnathan|        N|   INC|Others|\n",
      "|524b1379d08e4c02f...|   54000|Through Bank Tran...| 2011-12|    Prof. K.V.Thomas|        N|   INC|Others|\n",
      "|6db7af0c5dca3b333...|  100000|          146865 SBI| 2011-12|     Sweta Chyouksey|        Y|   BJP|Others|\n",
      "|c01158e07376c3778...|  100000|          994966 SBI| 2011-12|   Uma Shankar Gupta|        N|   BJP|Others|\n",
      "|d8156bae0c4243d37...|   25000|14021,  Union Ban...| 2013-14|Parshwanath Bhakt...|        N|   BJP|Others|\n",
      "|15c64efe58b209e20...|  100000|          168278 SBI| 2011-12|Anand Constructio...|        Y|   BJP|Others|\n",
      "|c8087c832dde2a1c4...|   54000|       Bank Transfer| 2013-14|       Kamal Kashore|        N|   INC|Others|\n",
      "+--------------------+--------+--------------------+--------+--------------------+---------+------+------+\n",
      "only showing top 10 rows\n",
      "\n"
     ]
    }
   ],
   "source": [
    "df.show(10)"
   ]
  },
  {
   "cell_type": "markdown",
   "metadata": {},
   "source": [
    "Task 3: Categorize mode_of_payment into 4 categories: Cash, cheque, bank, others"
   ]
  },
  {
   "cell_type": "code",
   "execution_count": 95,
   "metadata": {},
   "outputs": [],
   "source": [
    "from pyspark.sql.functions import *\n",
    "df= df.withColumn(\"mode_of_payment\", when(df.mode_of_payment.like(\"%Cheque%\"),\"cheque\")\n",
    "                                 .when(df.mode_of_payment.like(\"Ch.%\"),\"cheque\")\n",
    "                                 .when(df.mode_of_payment.like(\"%CASH%\"),\"cash\")\n",
    "                                 .when(df.mode_of_payment.like(\"%Bank%\"),\"bank\")\n",
    "                                 .otherwise(\"others\"))"
   ]
  },
  {
   "cell_type": "code",
   "execution_count": 96,
   "metadata": {},
   "outputs": [
    {
     "name": "stdout",
     "output_type": "stream",
     "text": [
      "+--------------------+--------+---------------+--------+--------------------+---------+------+------+\n",
      "|             Address|  Amount|mode_of_payment|fin_year|                Name|pan_given| Party|  Type|\n",
      "+--------------------+--------+---------------+--------+--------------------+---------+------+------+\n",
      "|5a3058deb6f337958...| 3000000|           cash| 2010-11|          Aziz Pasha|        Y|   CPI|Others|\n",
      "|846539cb21bc9e6c6...|10000000|           bank| 2014-15|    V K Ramachandran|        Y|CPI(M)|Others|\n",
      "|869fa3a19f1c51ad1...|  108000|         cheque| 2014-15|  Dr. Manmohan Singh|        N|   INC|Others|\n",
      "|5f04f40130569ddab...|   54000|           bank| 2011-12| Dr. Manda Jagnathan|        N|   INC|Others|\n",
      "|524b1379d08e4c02f...|   54000|           bank| 2011-12|    Prof. K.V.Thomas|        N|   INC|Others|\n",
      "|6db7af0c5dca3b333...|  100000|         others| 2011-12|     Sweta Chyouksey|        Y|   BJP|Others|\n",
      "|c01158e07376c3778...|  100000|         others| 2011-12|   Uma Shankar Gupta|        N|   BJP|Others|\n",
      "|d8156bae0c4243d37...|   25000|           bank| 2013-14|Parshwanath Bhakt...|        N|   BJP|Others|\n",
      "|15c64efe58b209e20...|  100000|         others| 2011-12|Anand Constructio...|        Y|   BJP|Others|\n",
      "|c8087c832dde2a1c4...|   54000|           bank| 2013-14|       Kamal Kashore|        N|   INC|Others|\n",
      "|9f2ba6981e36ea0fc...|  100000|           bank| 2004-05|          R.V Pandit|        N|   BJP|Others|\n",
      "|d8156bae0c4243d37...|  100000|         others| 2012-13|      A & T Infracon|        N|   BJP|Others|\n",
      "|9ed075605230cbb74...|  300000|         cheque| 2008-09|A 2 Z online  Ser...|        N|   BJP|Others|\n",
      "|4bc59ca1c387bfd59...|  200000|         cheque| 2008-09|A 2 Z online  Ser...|        N|   BJP|Others|\n",
      "|4bc59ca1c387bfd59...|  200000|         cheque| 2008-09|A 2 Z online  Ser...|        N|   BJP|Others|\n",
      "|d8156bae0c4243d37...|  125000|           bank| 2012-13|A B Rolling Mills...|        N|   BJP|Others|\n",
      "|a68f3334fbfbdf18b...|  100000|           bank| 2011-12|           A C Dixit|        N|   BJP|Others|\n",
      "|e9552141c8f9ab365...|  100000|           bank| 2014-15|        A D Builders|        Y|   BJP|Others|\n",
      "|d8156bae0c4243d37...|   21000|         others| 2012-13|               A Fox|        N|   BJP|Others|\n",
      "|6f87e5d7cdf08271c...|  100000|         cheque| 2009-10|A Mahendra Jewellers|        Y|   INC|Others|\n",
      "+--------------------+--------+---------------+--------+--------------------+---------+------+------+\n",
      "only showing top 20 rows\n",
      "\n"
     ]
    }
   ],
   "source": [
    "df.show()"
   ]
  },
  {
   "cell_type": "markdown",
   "metadata": {},
   "source": [
    "Task 4: Calculate aggregates per party"
   ]
  },
  {
   "cell_type": "code",
   "execution_count": 97,
   "metadata": {},
   "outputs": [
    {
     "name": "stdout",
     "output_type": "stream",
     "text": [
      "+------+\n",
      "| Party|\n",
      "+------+\n",
      "|   INC|\n",
      "|   BJP|\n",
      "|   NCP|\n",
      "|   CPI|\n",
      "|CPI(M)|\n",
      "+------+\n",
      "\n"
     ]
    }
   ],
   "source": [
    "df.select(\"Party\").distinct().show()"
   ]
  },
  {
   "cell_type": "code",
   "execution_count": 98,
   "metadata": {},
   "outputs": [
    {
     "name": "stdout",
     "output_type": "stream",
     "text": [
      "+--------------------+--------+---------------+--------+-------------------+---------+------+------+-----------+-----------+------------------+-------------+-----------+-----------+-----------+-------------+-----------+-----------+-----------+-------------+-----------+-----------+------------------+-------------+--------------+--------------+-----------------+----------------+\n",
      "|             Address|  Amount|mode_of_payment|fin_year|               Name|pan_given| Party|  Type|INC_SUM_LTD|INC_MAX_LTD|       INC_AVG_LTD|INC_COUNT_LTD|BJP_SUM_LTD|BJP_MAX_LTD|BJP_AVG_LTD|BJP_COUNT_LTD|NCP_SUM_LTD|NCP_MAX_LTD|NCP_AVG_LTD|NCP_COUNT_LTD|CPI_SUM_LTD|CPI_MAX_LTD|       CPI_AVG_LTD|CPI_COUNT_LTD|CPI(M)_SUM_LTD|CPI(M)_MAX_LTD|   CPI(M)_AVG_LTD|CPI(M)_COUNT_LTD|\n",
      "+--------------------+--------+---------------+--------+-------------------+---------+------+------+-----------+-----------+------------------+-------------+-----------+-----------+-----------+-------------+-----------+-----------+-----------+-------------+-----------+-----------+------------------+-------------+--------------+--------------+-----------------+----------------+\n",
      "|5a3058deb6f337958...| 3000000|           cash| 2010-11|         Aziz Pasha|        Y|   CPI|Others|          0|          0|                 0|            0|          0|          0|          0|            0|          0|          0|          0|            0|   68123698|    3000000|177405.46354166666|          384|             0|             0|                0|               0|\n",
      "|846539cb21bc9e6c6...|10000000|           bank| 2014-15|   V K Ramachandran|        Y|CPI(M)|Others|          0|          0|                 0|            0|          0|          0|          0|            0|          0|          0|          0|            0|          0|          0|                 0|            0|     150622128|      10000000|292470.1514563107|             515|\n",
      "|869fa3a19f1c51ad1...|  108000|         cheque| 2014-15| Dr. Manmohan Singh|        N|   INC|Others| 4031487349|  500000000|1065122.1529722589|         3785|          0|          0|          0|            0|          0|          0|          0|            0|          0|          0|                 0|            0|             0|             0|                0|               0|\n",
      "|5f04f40130569ddab...|   54000|           bank| 2011-12|Dr. Manda Jagnathan|        N|   INC|Others| 4031487349|  500000000|1065122.1529722589|         3785|          0|          0|          0|            0|          0|          0|          0|            0|          0|          0|                 0|            0|             0|             0|                0|               0|\n",
      "|524b1379d08e4c02f...|   54000|           bank| 2011-12|   Prof. K.V.Thomas|        N|   INC|Others| 4031487349|  500000000|1065122.1529722589|         3785|          0|          0|          0|            0|          0|          0|          0|            0|          0|          0|                 0|            0|             0|             0|                0|               0|\n",
      "+--------------------+--------+---------------+--------+-------------------+---------+------+------+-----------+-----------+------------------+-------------+-----------+-----------+-----------+-------------+-----------+-----------+-----------+-------------+-----------+-----------+------------------+-------------+--------------+--------------+-----------------+----------------+\n",
      "only showing top 5 rows\n",
      "\n"
     ]
    }
   ],
   "source": [
    "132\n",
    "\n",
    "from pyspark.sql.types import IntegerType\n",
    "#converting Amount column to numeric form\n",
    "df = df.withColumn(\"Amount\", df[\"Amount\"].cast(IntegerType()))\n",
    "\n",
    "#function to find sum,max,count,avg for each party\n",
    "def get_party_aggregate(party_name):\n",
    "    sum_val=df.groupBy(\"Party\").sum(\"Amount\").filter(df.Party == party_name).collect()[0][1]\n",
    "    max_val=df.groupBy(\"Party\").max(\"Amount\").filter(df.Party == party_name).collect()[0][1]\n",
    "    avg_val=df.groupBy(\"Party\").avg(\"Amount\").filter(df.Party == party_name).collect()[0][1]\n",
    "    count_val=df.groupBy(\"Party\").agg(count(\"Amount\")).filter(df.Party == party_name).collect()[0][1]\n",
    "    agg=[sum_val,max_val,avg_val,count_val]\n",
    "    return agg\n",
    "    \n",
    "#getting aggregate values for each party\n",
    "INC_result_agg=get_party_aggregate(\"INC\")\n",
    "BJP_result_agg=get_party_aggregate(\"BJP\")\n",
    "NCP_result_agg=get_party_aggregate(\"NCP\")\n",
    "CPI_result_agg=get_party_aggregate(\"CPI\")\n",
    "CPIM_result_agg=get_party_aggregate(\"CPI(M)\")\n",
    "\n",
    "\n",
    "#function to create columns of aggregate values\n",
    "def create_agg_col(df,party_name,col_name,agg_val):\n",
    "    df=df.withColumn(col_name,lit(agg_val)).withColumn(col_name, when(df.Party.like(party_name),agg_val).otherwise(\"0\"))\n",
    "    return df\n",
    "\n",
    "#function to create columns with customized name for a party with aggregate values\n",
    "def add_party_agg_cols(df,party_name,party_agg_list):\n",
    "    df=create_agg_col(df,party_name,party_name+\"_SUM_LTD\",party_agg_list[0])\n",
    "    df=create_agg_col(df,party_name,party_name+\"_MAX_LTD\",party_agg_list[1])\n",
    "    df=create_agg_col(df,party_name,party_name+\"_AVG_LTD\",party_agg_list[2])\n",
    "    df=create_agg_col(df,party_name,party_name+\"_COUNT_LTD\",party_agg_list[3])\n",
    "    return df\n",
    "\n",
    "#creating aggregate values columns by passing party name and aggregate value list to function\n",
    "df=add_party_agg_cols(df,\"INC\",INC_result_agg)\n",
    "df=add_party_agg_cols(df,\"BJP\",BJP_result_agg)\n",
    "df=add_party_agg_cols(df,\"NCP\",NCP_result_agg)\n",
    "df=add_party_agg_cols(df,\"CPI\",CPI_result_agg)\n",
    "df=add_party_agg_cols(df,\"CPI(M)\",CPIM_result_agg)\n",
    "\n",
    "\n",
    "df.show(5)\n",
    "\n"
   ]
  },
  {
   "cell_type": "markdown",
   "metadata": {},
   "source": [
    "Task 5: Top donor name per party"
   ]
  },
  {
   "cell_type": "code",
   "execution_count": 99,
   "metadata": {},
   "outputs": [
    {
     "name": "stdout",
     "output_type": "stream",
     "text": [
      "+--------------------+--------+---------------+--------+-------------------+---------+------+------+-----------+-----------+------------------+-------------+-----------+-----------+-----------+-------------+-----------+-----------+-----------+-------------+-----------+-----------+------------------+-------------+--------------+--------------+-----------------+----------------+-------------+\n",
      "|             Address|  Amount|mode_of_payment|fin_year|               Name|pan_given| Party|  Type|INC_SUM_LTD|INC_MAX_LTD|       INC_AVG_LTD|INC_COUNT_LTD|BJP_SUM_LTD|BJP_MAX_LTD|BJP_AVG_LTD|BJP_COUNT_LTD|NCP_SUM_LTD|NCP_MAX_LTD|NCP_AVG_LTD|NCP_COUNT_LTD|CPI_SUM_LTD|CPI_MAX_LTD|       CPI_AVG_LTD|CPI_COUNT_LTD|CPI(M)_SUM_LTD|CPI(M)_MAX_LTD|   CPI(M)_AVG_LTD|CPI(M)_COUNT_LTD|BJP_TOP_DONOR|\n",
      "+--------------------+--------+---------------+--------+-------------------+---------+------+------+-----------+-----------+------------------+-------------+-----------+-----------+-----------+-------------+-----------+-----------+-----------+-------------+-----------+-----------+------------------+-------------+--------------+--------------+-----------------+----------------+-------------+\n",
      "|5a3058deb6f337958...| 3000000|           cash| 2010-11|         Aziz Pasha|        Y|   CPI|Others|          0|          0|                 0|            0|          0|          0|          0|            0|          0|          0|          0|            0|   68123698|    3000000|177405.46354166666|          384|             0|             0|                0|               0|          N.A|\n",
      "|846539cb21bc9e6c6...|10000000|           bank| 2014-15|   V K Ramachandran|        Y|CPI(M)|Others|          0|          0|                 0|            0|          0|          0|          0|            0|          0|          0|          0|            0|          0|          0|                 0|            0|     150622128|      10000000|292470.1514563107|             515|          N.A|\n",
      "|869fa3a19f1c51ad1...|  108000|         cheque| 2014-15| Dr. Manmohan Singh|        N|   INC|Others| 4031487349|  500000000|1065122.1529722589|         3785|          0|          0|          0|            0|          0|          0|          0|            0|          0|          0|                 0|            0|             0|             0|                0|               0|          N.A|\n",
      "|5f04f40130569ddab...|   54000|           bank| 2011-12|Dr. Manda Jagnathan|        N|   INC|Others| 4031487349|  500000000|1065122.1529722589|         3785|          0|          0|          0|            0|          0|          0|          0|            0|          0|          0|                 0|            0|             0|             0|                0|               0|          N.A|\n",
      "|524b1379d08e4c02f...|   54000|           bank| 2011-12|   Prof. K.V.Thomas|        N|   INC|Others| 4031487349|  500000000|1065122.1529722589|         3785|          0|          0|          0|            0|          0|          0|          0|            0|          0|          0|                 0|            0|             0|             0|                0|               0|          N.A|\n",
      "+--------------------+--------+---------------+--------+-------------------+---------+------+------+-----------+-----------+------------------+-------------+-----------+-----------+-----------+-------------+-----------+-----------+-----------+-------------+-----------+-----------+------------------+-------------+--------------+--------------+-----------------+----------------+-------------+\n",
      "only showing top 5 rows\n",
      "\n"
     ]
    }
   ],
   "source": [
    "#For Party: BJP\n",
    "x=df.where(df.Party == \"BJP\").select(max(\"Amount\"))\n",
    "# x=df.groupBy(\"Party\").max(\"Amount\").filter(df.Party == \"BJP\")\n",
    "amt=x.collect()[0][0]\n",
    "dff=df.select(\"Name\").where(df.Amount==amt).where(df.Party==\"BJP\")\n",
    "bjp_top=dff.collect()[0][0]\n",
    "bjp_top\n",
    "df=df.withColumn(\"BJP_TOP_DONOR\",lit(bjp_top)).withColumn(\"BJP_TOP_DONOR\", when(df.Party.like(\"BJP\"),bjp_top).otherwise(\"N.A\"))\n",
    "df.show(5)\n"
   ]
  },
  {
   "cell_type": "code",
   "execution_count": 100,
   "metadata": {},
   "outputs": [
    {
     "name": "stdout",
     "output_type": "stream",
     "text": [
      "+--------------------+\n",
      "|                Name|\n",
      "+--------------------+\n",
      "|General Electoral...|\n",
      "+--------------------+\n",
      "\n"
     ]
    }
   ],
   "source": [
    "# For party: INC\n",
    "x=df.where(df.Party == \"INC\").select(max(\"Amount\"))\n",
    "amt=x.collect()[0][0]\n",
    "dff=df.select(\"Name\").where(df.Amount==amt).where(df.Party==\"INC\")\n",
    "dff.show()\n",
    "inc_top=dff.collect()[0][0]\n",
    "inc_top\n",
    "df=df.withColumn(\"INC_TOP_DONOR\",lit(inc_top)).withColumn(\"INC_TOP_DONOR\", when(df.Party.like(\"INC\"),inc_top).otherwise(\"N.A\"))\n"
   ]
  },
  {
   "cell_type": "code",
   "execution_count": 101,
   "metadata": {},
   "outputs": [
    {
     "name": "stdout",
     "output_type": "stream",
     "text": [
      "+--------------------+\n",
      "|                Name|\n",
      "+--------------------+\n",
      "|Lodha Dwellers Pv...|\n",
      "|Satya Electoral T...|\n",
      "+--------------------+\n",
      "\n"
     ]
    }
   ],
   "source": [
    "# For party: NCP\n",
    "x=df.where(df.Party == \"NCP\").select(max(\"Amount\"))\n",
    "amt=x.collect()[0][0]\n",
    "dff=df.select(\"Name\").where(df.Amount==amt).where(df.Party==\"NCP\")\n",
    "dff.show()\n",
    "ncp_top=dff.collect()[0][0]\n",
    "ncp_top\n",
    "df=df.withColumn(\"NCP_TOP_DONOR\",lit(ncp_top)).withColumn(\"NCP_TOP_DONOR\", when(df.Party.like(\"NCP\"),ncp_top).otherwise(\"N.A\"))\n"
   ]
  },
  {
   "cell_type": "code",
   "execution_count": 102,
   "metadata": {},
   "outputs": [
    {
     "name": "stdout",
     "output_type": "stream",
     "text": [
      "+----------+\n",
      "|      Name|\n",
      "+----------+\n",
      "|Aziz Pasha|\n",
      "+----------+\n",
      "\n"
     ]
    }
   ],
   "source": [
    "# For party: CPI\n",
    "x=df.where(df.Party == \"CPI\").select(max(\"Amount\"))\n",
    "amt=x.collect()[0][0]\n",
    "dff=df.select(\"Name\").where(df.Amount==amt).where(df.Party==\"CPI\")\n",
    "dff.show()\n",
    "cpi_top=dff.collect()[0][0]\n",
    "cpi_top\n",
    "df=df.withColumn(\"CPI_TOP_DONOR\",lit(cpi_top)).withColumn(\"CPI_TOP_DONOR\", when(df.Party.like(\"CPI\"),cpi_top).otherwise(\"N.A\"))\n"
   ]
  },
  {
   "cell_type": "code",
   "execution_count": 103,
   "metadata": {},
   "outputs": [
    {
     "name": "stdout",
     "output_type": "stream",
     "text": [
      "+----------------+\n",
      "|            Name|\n",
      "+----------------+\n",
      "|V K Ramachandran|\n",
      "+----------------+\n",
      "\n"
     ]
    }
   ],
   "source": [
    "# For party: CPI(M)\n",
    "x=df.where(df.Party == \"CPI(M)\").select(max(\"Amount\"))\n",
    "amt=x.collect()[0][0]\n",
    "dff=df.select(\"Name\").where(df.Amount==amt).where(df.Party==\"CPI(M)\")\n",
    "dff.show()\n",
    "cpim_top=dff.collect()[0][0]\n",
    "cpim_top\n",
    "df=df.withColumn(\"CPI(M)_TOP_DONOR\",lit(cpim_top)).withColumn(\"CPI(M)_TOP_DONOR\", when(df.Party.like(\"CPI(M)\"),cpim_top).otherwise(\"N.A\"))\n"
   ]
  },
  {
   "cell_type": "code",
   "execution_count": 104,
   "metadata": {},
   "outputs": [
    {
     "name": "stdout",
     "output_type": "stream",
     "text": [
      "+--------------------+--------+---------------+--------+-------------------+---------+------+------+-----------+-----------+------------------+-------------+-----------+-----------+-----------+-------------+-----------+-----------+-----------+-------------+-----------+-----------+------------------+-------------+--------------+--------------+-----------------+----------------+-------------+--------------------+-------------+-------------+----------------+\n",
      "|             Address|  Amount|mode_of_payment|fin_year|               Name|pan_given| Party|  Type|INC_SUM_LTD|INC_MAX_LTD|       INC_AVG_LTD|INC_COUNT_LTD|BJP_SUM_LTD|BJP_MAX_LTD|BJP_AVG_LTD|BJP_COUNT_LTD|NCP_SUM_LTD|NCP_MAX_LTD|NCP_AVG_LTD|NCP_COUNT_LTD|CPI_SUM_LTD|CPI_MAX_LTD|       CPI_AVG_LTD|CPI_COUNT_LTD|CPI(M)_SUM_LTD|CPI(M)_MAX_LTD|   CPI(M)_AVG_LTD|CPI(M)_COUNT_LTD|BJP_TOP_DONOR|       INC_TOP_DONOR|NCP_TOP_DONOR|CPI_TOP_DONOR|CPI(M)_TOP_DONOR|\n",
      "+--------------------+--------+---------------+--------+-------------------+---------+------+------+-----------+-----------+------------------+-------------+-----------+-----------+-----------+-------------+-----------+-----------+-----------+-------------+-----------+-----------+------------------+-------------+--------------+--------------+-----------------+----------------+-------------+--------------------+-------------+-------------+----------------+\n",
      "|5a3058deb6f337958...| 3000000|           cash| 2010-11|         Aziz Pasha|        Y|   CPI|Others|          0|          0|                 0|            0|          0|          0|          0|            0|          0|          0|          0|            0|   68123698|    3000000|177405.46354166666|          384|             0|             0|                0|               0|          N.A|                 N.A|          N.A|   Aziz Pasha|             N.A|\n",
      "|846539cb21bc9e6c6...|10000000|           bank| 2014-15|   V K Ramachandran|        Y|CPI(M)|Others|          0|          0|                 0|            0|          0|          0|          0|            0|          0|          0|          0|            0|          0|          0|                 0|            0|     150622128|      10000000|292470.1514563107|             515|          N.A|                 N.A|          N.A|          N.A|V K Ramachandran|\n",
      "|869fa3a19f1c51ad1...|  108000|         cheque| 2014-15| Dr. Manmohan Singh|        N|   INC|Others| 4031487349|  500000000|1065122.1529722589|         3785|          0|          0|          0|            0|          0|          0|          0|            0|          0|          0|                 0|            0|             0|             0|                0|               0|          N.A|General Electoral...|          N.A|          N.A|             N.A|\n",
      "|5f04f40130569ddab...|   54000|           bank| 2011-12|Dr. Manda Jagnathan|        N|   INC|Others| 4031487349|  500000000|1065122.1529722589|         3785|          0|          0|          0|            0|          0|          0|          0|            0|          0|          0|                 0|            0|             0|             0|                0|               0|          N.A|General Electoral...|          N.A|          N.A|             N.A|\n",
      "|524b1379d08e4c02f...|   54000|           bank| 2011-12|   Prof. K.V.Thomas|        N|   INC|Others| 4031487349|  500000000|1065122.1529722589|         3785|          0|          0|          0|            0|          0|          0|          0|            0|          0|          0|                 0|            0|             0|             0|                0|               0|          N.A|General Electoral...|          N.A|          N.A|             N.A|\n",
      "+--------------------+--------+---------------+--------+-------------------+---------+------+------+-----------+-----------+------------------+-------------+-----------+-----------+-----------+-------------+-----------+-----------+-----------+-------------+-----------+-----------+------------------+-------------+--------------+--------------+-----------------+----------------+-------------+--------------------+-------------+-------------+----------------+\n",
      "only showing top 5 rows\n",
      "\n"
     ]
    }
   ],
   "source": [
    "df.show(5)"
   ]
  },
  {
   "cell_type": "markdown",
   "metadata": {},
   "source": [
    "Task 6: Calculate sum of donations per financial year per party and the column should be named as 2011-12_BJP_SUM"
   ]
  },
  {
   "cell_type": "code",
   "execution_count": 105,
   "metadata": {},
   "outputs": [
    {
     "name": "stdout",
     "output_type": "stream",
     "text": [
      "+------+--------+-----------+\n",
      "| Party|fin_year|sum(Amount)|\n",
      "+------+--------+-----------+\n",
      "|   BJP| 2010-11|  146253279|\n",
      "|   CPI| 2012-13|    3695449|\n",
      "|   INC| 2013-14|  595837728|\n",
      "|   BJP| 2003-04|  116881973|\n",
      "|CPI(M)| 2011-12|   23838657|\n",
      "|   BJP| 2009-10|  823220133|\n",
      "|   INC| 2014-15| 1414610950|\n",
      "|CPI(M)| 2005-06|     550000|\n",
      "|   NCP| 2012-13|     504000|\n",
      "|   BJP| 2011-12|  334194113|\n",
      "|   NCP| 2013-14|  140200000|\n",
      "|   BJP| 2008-09|  306057231|\n",
      "|CPI(M)| 2009-10|    3962049|\n",
      "|CPI(M)| 2008-09|    4155000|\n",
      "|   BJP| 2005-06|   36156111|\n",
      "|   NCP| 2014-15|  388236419|\n",
      "|   NCP| 2009-10|   30300000|\n",
      "|   CPI| 2007-08|    4125800|\n",
      "|   NCP| 2010-11|    1355000|\n",
      "|   INC| 2006-07|  121273513|\n",
      "+------+--------+-----------+\n",
      "only showing top 20 rows\n",
      "\n"
     ]
    },
    {
     "data": {
      "text/plain": [
       "334194113"
      ]
     },
     "execution_count": 105,
     "metadata": {},
     "output_type": "execute_result"
    }
   ],
   "source": [
    "fin=df.groupBy('Party','fin_year').sum('Amount')\n",
    "fin.show()\n",
    "#checking sum for a sample row\n",
    "sum_t=fin.collect()[9][2]\n",
    "sum_t\n"
   ]
  },
  {
   "cell_type": "code",
   "execution_count": 106,
   "metadata": {},
   "outputs": [
    {
     "name": "stdout",
     "output_type": "stream",
     "text": [
      "+--------------------+--------+---------------+--------+-------------------+---------+------+------+-----------+-----------+------------------+-------------+-----------+-----------+-----------+-------------+-----------+-----------+-----------+-------------+-----------+-----------+------------------+-------------+--------------+--------------+-----------------+----------------+-------------+--------------------+-------------+-------------+----------------+---------------+---------------+---------------+---------------+------------------+---------------+---------------+------------------+---------------+---------------+---------------+---------------+------------------+------------------+---------------+---------------+---------------+---------------+---------------+---------------+---------------+---------------+---------------+---------------+---------------+---------------+---------------+---------------+---------------+---------------+------------------+---------------+------------------+---------------+---------------+---------------+------------------+------------------+---------------+---------------+---------------+------------------+---------------+------------------+---------------+---------------+---------------+---------------+---------------+---------------+---------------+---------------+---------------+---------------+------------------+------------------+\n",
      "|             Address|  Amount|mode_of_payment|fin_year|               Name|pan_given| Party|  Type|INC_SUM_LTD|INC_MAX_LTD|       INC_AVG_LTD|INC_COUNT_LTD|BJP_SUM_LTD|BJP_MAX_LTD|BJP_AVG_LTD|BJP_COUNT_LTD|NCP_SUM_LTD|NCP_MAX_LTD|NCP_AVG_LTD|NCP_COUNT_LTD|CPI_SUM_LTD|CPI_MAX_LTD|       CPI_AVG_LTD|CPI_COUNT_LTD|CPI(M)_SUM_LTD|CPI(M)_MAX_LTD|   CPI(M)_AVG_LTD|CPI(M)_COUNT_LTD|BJP_TOP_DONOR|       INC_TOP_DONOR|NCP_TOP_DONOR|CPI_TOP_DONOR|CPI(M)_TOP_DONOR|2010-11_BJP_SUM|2012-13_CPI_SUM|2013-14_INC_SUM|2003-04_BJP_SUM|2011-12_CPI(M)_SUM|2009-10_BJP_SUM|2014-15_INC_SUM|2005-06_CPI(M)_SUM|2012-13_NCP_SUM|2011-12_BJP_SUM|2013-14_NCP_SUM|2008-09_BJP_SUM|2009-10_CPI(M)_SUM|2008-09_CPI(M)_SUM|2005-06_BJP_SUM|2014-15_NCP_SUM|2009-10_NCP_SUM|2007-08_CPI_SUM|2010-11_NCP_SUM|2006-07_INC_SUM|2003-04_CPI_SUM|2004-05_INC_SUM|2008-09_CPI_SUM|2013-14_BJP_SUM|2014-15_BJP_SUM|2012-13_INC_SUM|2007-08_BJP_SUM|2011-12_CPI_SUM|2003-04_INC_SUM|2007-08_NCP_SUM|2006-07_CPI(M)_SUM|2009-10_CPI_SUM|2014-15_CPI(M)_SUM|2011-12_INC_SUM|2008-09_NCP_SUM|2005-06_INC_SUM|2013-14_CPI(M)_SUM|2012-13_CPI(M)_SUM|2010-11_INC_SUM|2011-12_NCP_SUM|2012-13_BJP_SUM|2004-05_CPI(M)_SUM|2004-05_CPI_SUM|2007-08_CPI(M)_SUM|2004-05_BJP_SUM|2005-06_CPI_SUM|2007-08_INC_SUM|2014-15_CPI_SUM|2006-07_BJP_SUM|2006-07_CPI_SUM|2008-09_INC_SUM|2010-11_CPI_SUM|2009-10_INC_SUM|2013-14_CPI_SUM|2010-11_CPI(M)_SUM|2003-04_CPI(M)_SUM|\n",
      "+--------------------+--------+---------------+--------+-------------------+---------+------+------+-----------+-----------+------------------+-------------+-----------+-----------+-----------+-------------+-----------+-----------+-----------+-------------+-----------+-----------+------------------+-------------+--------------+--------------+-----------------+----------------+-------------+--------------------+-------------+-------------+----------------+---------------+---------------+---------------+---------------+------------------+---------------+---------------+------------------+---------------+---------------+---------------+---------------+------------------+------------------+---------------+---------------+---------------+---------------+---------------+---------------+---------------+---------------+---------------+---------------+---------------+---------------+---------------+---------------+---------------+---------------+------------------+---------------+------------------+---------------+---------------+---------------+------------------+------------------+---------------+---------------+---------------+------------------+---------------+------------------+---------------+---------------+---------------+---------------+---------------+---------------+---------------+---------------+---------------+---------------+------------------+------------------+\n",
      "|5a3058deb6f337958...| 3000000|           cash| 2010-11|         Aziz Pasha|        Y|   CPI|Others|          0|          0|                 0|            0|          0|          0|          0|            0|          0|          0|          0|            0|   68123698|    3000000|177405.46354166666|          384|             0|             0|                0|               0|          N.A|                 N.A|          N.A|   Aziz Pasha|             N.A|            N.A|            N.A|            N.A|            N.A|               N.A|            N.A|            N.A|               N.A|            N.A|            N.A|            N.A|            N.A|               N.A|               N.A|            N.A|            N.A|            N.A|            N.A|            N.A|            N.A|            N.A|            N.A|            N.A|            N.A|            N.A|            N.A|            N.A|            N.A|            N.A|            N.A|               N.A|            N.A|               N.A|            N.A|            N.A|            N.A|               N.A|               N.A|            N.A|            N.A|            N.A|               N.A|            N.A|               N.A|            N.A|            N.A|            N.A|            N.A|            N.A|            N.A|            N.A|       10811465|            N.A|            N.A|               N.A|               N.A|\n",
      "|846539cb21bc9e6c6...|10000000|           bank| 2014-15|   V K Ramachandran|        Y|CPI(M)|Others|          0|          0|                 0|            0|          0|          0|          0|            0|          0|          0|          0|            0|          0|          0|                 0|            0|     150622128|      10000000|292470.1514563107|             515|          N.A|                 N.A|          N.A|          N.A|V K Ramachandran|            N.A|            N.A|            N.A|            N.A|               N.A|            N.A|            N.A|               N.A|            N.A|            N.A|            N.A|            N.A|               N.A|               N.A|            N.A|            N.A|            N.A|            N.A|            N.A|            N.A|            N.A|            N.A|            N.A|            N.A|            N.A|            N.A|            N.A|            N.A|            N.A|            N.A|               N.A|            N.A|          34197498|            N.A|            N.A|            N.A|               N.A|               N.A|            N.A|            N.A|            N.A|               N.A|            N.A|               N.A|            N.A|            N.A|            N.A|            N.A|            N.A|            N.A|            N.A|            N.A|            N.A|            N.A|               N.A|               N.A|\n",
      "|869fa3a19f1c51ad1...|  108000|         cheque| 2014-15| Dr. Manmohan Singh|        N|   INC|Others| 4031487349|  500000000|1065122.1529722589|         3785|          0|          0|          0|            0|          0|          0|          0|            0|          0|          0|                 0|            0|             0|             0|                0|               0|          N.A|General Electoral...|          N.A|          N.A|             N.A|            N.A|            N.A|            N.A|            N.A|               N.A|            N.A|     1414610950|               N.A|            N.A|            N.A|            N.A|            N.A|               N.A|               N.A|            N.A|            N.A|            N.A|            N.A|            N.A|            N.A|            N.A|            N.A|            N.A|            N.A|            N.A|            N.A|            N.A|            N.A|            N.A|            N.A|               N.A|            N.A|               N.A|            N.A|            N.A|            N.A|               N.A|               N.A|            N.A|            N.A|            N.A|               N.A|            N.A|               N.A|            N.A|            N.A|            N.A|            N.A|            N.A|            N.A|            N.A|            N.A|            N.A|            N.A|               N.A|               N.A|\n",
      "|5f04f40130569ddab...|   54000|           bank| 2011-12|Dr. Manda Jagnathan|        N|   INC|Others| 4031487349|  500000000|1065122.1529722589|         3785|          0|          0|          0|            0|          0|          0|          0|            0|          0|          0|                 0|            0|             0|             0|                0|               0|          N.A|General Electoral...|          N.A|          N.A|             N.A|            N.A|            N.A|            N.A|            N.A|               N.A|            N.A|            N.A|               N.A|            N.A|            N.A|            N.A|            N.A|               N.A|               N.A|            N.A|            N.A|            N.A|            N.A|            N.A|            N.A|            N.A|            N.A|            N.A|            N.A|            N.A|            N.A|            N.A|            N.A|            N.A|            N.A|               N.A|            N.A|               N.A|       95910664|            N.A|            N.A|               N.A|               N.A|            N.A|            N.A|            N.A|               N.A|            N.A|               N.A|            N.A|            N.A|            N.A|            N.A|            N.A|            N.A|            N.A|            N.A|            N.A|            N.A|               N.A|               N.A|\n",
      "|524b1379d08e4c02f...|   54000|           bank| 2011-12|   Prof. K.V.Thomas|        N|   INC|Others| 4031487349|  500000000|1065122.1529722589|         3785|          0|          0|          0|            0|          0|          0|          0|            0|          0|          0|                 0|            0|             0|             0|                0|               0|          N.A|General Electoral...|          N.A|          N.A|             N.A|            N.A|            N.A|            N.A|            N.A|               N.A|            N.A|            N.A|               N.A|            N.A|            N.A|            N.A|            N.A|               N.A|               N.A|            N.A|            N.A|            N.A|            N.A|            N.A|            N.A|            N.A|            N.A|            N.A|            N.A|            N.A|            N.A|            N.A|            N.A|            N.A|            N.A|               N.A|            N.A|               N.A|       95910664|            N.A|            N.A|               N.A|               N.A|            N.A|            N.A|            N.A|               N.A|            N.A|               N.A|            N.A|            N.A|            N.A|            N.A|            N.A|            N.A|            N.A|            N.A|            N.A|            N.A|               N.A|               N.A|\n",
      "+--------------------+--------+---------------+--------+-------------------+---------+------+------+-----------+-----------+------------------+-------------+-----------+-----------+-----------+-------------+-----------+-----------+-----------+-------------+-----------+-----------+------------------+-------------+--------------+--------------+-----------------+----------------+-------------+--------------------+-------------+-------------+----------------+---------------+---------------+---------------+---------------+------------------+---------------+---------------+------------------+---------------+---------------+---------------+---------------+------------------+------------------+---------------+---------------+---------------+---------------+---------------+---------------+---------------+---------------+---------------+---------------+---------------+---------------+---------------+---------------+---------------+---------------+------------------+---------------+------------------+---------------+---------------+---------------+------------------+------------------+---------------+---------------+---------------+------------------+---------------+------------------+---------------+---------------+---------------+---------------+---------------+---------------+---------------+---------------+---------------+---------------+------------------+------------------+\n",
      "only showing top 5 rows\n",
      "\n"
     ]
    }
   ],
   "source": [
    "# df=df.withColumn(\"2011-12_BJP_SUM\",lit(sum_t)).withColumn(\"2011-12_BJP_SUM\", when(df.Party.like(\"BJP\") & df.fin_year.like(\"2011-12\"),sum_t).otherwise(\"N.A\"))\n",
    "# df.show(50)\n",
    "\n",
    "#iterating to create columns for each financial year per party\n",
    "for i in df.groupBy('Party','fin_year').sum('Amount').collect():\n",
    "    df=df.withColumn(i['fin_year']+\"_\"+i['Party']+\"_SUM\",lit(i['sum(Amount)'])).withColumn(i['fin_year']+\"_\"+i['Party']+\"_SUM\", when(df.fin_year.like(i['fin_year']) & df.Party.like(i['Party']),i['sum(Amount)']).otherwise(\"N.A\"))\n",
    "\n",
    "df.show(5)"
   ]
  },
  {
   "cell_type": "markdown",
   "metadata": {},
   "source": [
    "Task 7: Calculate number of donation till date per mode_of_payment"
   ]
  },
  {
   "cell_type": "code",
   "execution_count": 107,
   "metadata": {},
   "outputs": [
    {
     "name": "stdout",
     "output_type": "stream",
     "text": [
      "+---------------+-----+\n",
      "|mode_of_payment|count|\n",
      "+---------------+-----+\n",
      "|           cash|   29|\n",
      "|         cheque| 2683|\n",
      "|         others| 4016|\n",
      "|           bank| 6845|\n",
      "+---------------+-----+\n",
      "\n"
     ]
    }
   ],
   "source": [
    "\n",
    "df1=df.groupBy('mode_of_payment').count()\n",
    "df1.show()\n",
    "\n",
    "payment_modes=['cash','cheque','others','bank']\n",
    "#iterating for each payment node to create new columns\n",
    "for i in range(4):\n",
    "    df=df.withColumn(payment_modes[i]+\"_COUNT_LTD\",lit(df1.collect()[i][1])).withColumn(payment_modes[i]+\"_COUNT_LTD\", when(df.mode_of_payment.like(payment_modes[i]),df1.collect()[i][1]).otherwise(\"0\"))\n",
    "\n"
   ]
  },
  {
   "cell_type": "code",
   "execution_count": 108,
   "metadata": {},
   "outputs": [
    {
     "name": "stdout",
     "output_type": "stream",
     "text": [
      "+--------------------+--------+---------------+--------+--------------------+---------+------+------+-----------+-----------+------------------+-------------+-----------+-----------+------------------+-------------+-----------+-----------+-----------+-------------+-----------+-----------+------------------+-------------+--------------+--------------+-----------------+----------------+--------------------+--------------------+-------------+-------------+----------------+---------------+---------------+---------------+---------------+------------------+---------------+---------------+------------------+---------------+---------------+---------------+---------------+------------------+------------------+---------------+---------------+---------------+---------------+---------------+---------------+---------------+---------------+---------------+---------------+---------------+---------------+---------------+---------------+---------------+---------------+------------------+---------------+------------------+---------------+---------------+---------------+------------------+------------------+---------------+---------------+---------------+------------------+---------------+------------------+---------------+---------------+---------------+---------------+---------------+---------------+---------------+---------------+---------------+---------------+------------------+------------------+--------------+----------------+----------------+--------------+\n",
      "|             Address|  Amount|mode_of_payment|fin_year|                Name|pan_given| Party|  Type|INC_SUM_LTD|INC_MAX_LTD|       INC_AVG_LTD|INC_COUNT_LTD|BJP_SUM_LTD|BJP_MAX_LTD|       BJP_AVG_LTD|BJP_COUNT_LTD|NCP_SUM_LTD|NCP_MAX_LTD|NCP_AVG_LTD|NCP_COUNT_LTD|CPI_SUM_LTD|CPI_MAX_LTD|       CPI_AVG_LTD|CPI_COUNT_LTD|CPI(M)_SUM_LTD|CPI(M)_MAX_LTD|   CPI(M)_AVG_LTD|CPI(M)_COUNT_LTD|       BJP_TOP_DONOR|       INC_TOP_DONOR|NCP_TOP_DONOR|CPI_TOP_DONOR|CPI(M)_TOP_DONOR|2010-11_BJP_SUM|2012-13_CPI_SUM|2013-14_INC_SUM|2003-04_BJP_SUM|2011-12_CPI(M)_SUM|2009-10_BJP_SUM|2014-15_INC_SUM|2005-06_CPI(M)_SUM|2012-13_NCP_SUM|2011-12_BJP_SUM|2013-14_NCP_SUM|2008-09_BJP_SUM|2009-10_CPI(M)_SUM|2008-09_CPI(M)_SUM|2005-06_BJP_SUM|2014-15_NCP_SUM|2009-10_NCP_SUM|2007-08_CPI_SUM|2010-11_NCP_SUM|2006-07_INC_SUM|2003-04_CPI_SUM|2004-05_INC_SUM|2008-09_CPI_SUM|2013-14_BJP_SUM|2014-15_BJP_SUM|2012-13_INC_SUM|2007-08_BJP_SUM|2011-12_CPI_SUM|2003-04_INC_SUM|2007-08_NCP_SUM|2006-07_CPI(M)_SUM|2009-10_CPI_SUM|2014-15_CPI(M)_SUM|2011-12_INC_SUM|2008-09_NCP_SUM|2005-06_INC_SUM|2013-14_CPI(M)_SUM|2012-13_CPI(M)_SUM|2010-11_INC_SUM|2011-12_NCP_SUM|2012-13_BJP_SUM|2004-05_CPI(M)_SUM|2004-05_CPI_SUM|2007-08_CPI(M)_SUM|2004-05_BJP_SUM|2005-06_CPI_SUM|2007-08_INC_SUM|2014-15_CPI_SUM|2006-07_BJP_SUM|2006-07_CPI_SUM|2008-09_INC_SUM|2010-11_CPI_SUM|2009-10_INC_SUM|2013-14_CPI_SUM|2010-11_CPI(M)_SUM|2003-04_CPI(M)_SUM|cash_COUNT_LTD|cheque_COUNT_LTD|others_COUNT_LTD|bank_COUNT_LTD|\n",
      "+--------------------+--------+---------------+--------+--------------------+---------+------+------+-----------+-----------+------------------+-------------+-----------+-----------+------------------+-------------+-----------+-----------+-----------+-------------+-----------+-----------+------------------+-------------+--------------+--------------+-----------------+----------------+--------------------+--------------------+-------------+-------------+----------------+---------------+---------------+---------------+---------------+------------------+---------------+---------------+------------------+---------------+---------------+---------------+---------------+------------------+------------------+---------------+---------------+---------------+---------------+---------------+---------------+---------------+---------------+---------------+---------------+---------------+---------------+---------------+---------------+---------------+---------------+------------------+---------------+------------------+---------------+---------------+---------------+------------------+------------------+---------------+---------------+---------------+------------------+---------------+------------------+---------------+---------------+---------------+---------------+---------------+---------------+---------------+---------------+---------------+---------------+------------------+------------------+--------------+----------------+----------------+--------------+\n",
      "|5a3058deb6f337958...| 3000000|           cash| 2010-11|          Aziz Pasha|        Y|   CPI|Others|          0|          0|                 0|            0|          0|          0|                 0|            0|          0|          0|          0|            0|   68123698|    3000000|177405.46354166666|          384|             0|             0|                0|               0|                 N.A|                 N.A|          N.A|   Aziz Pasha|             N.A|            N.A|            N.A|            N.A|            N.A|               N.A|            N.A|            N.A|               N.A|            N.A|            N.A|            N.A|            N.A|               N.A|               N.A|            N.A|            N.A|            N.A|            N.A|            N.A|            N.A|            N.A|            N.A|            N.A|            N.A|            N.A|            N.A|            N.A|            N.A|            N.A|            N.A|               N.A|            N.A|               N.A|            N.A|            N.A|            N.A|               N.A|               N.A|            N.A|            N.A|            N.A|               N.A|            N.A|               N.A|            N.A|            N.A|            N.A|            N.A|            N.A|            N.A|            N.A|       10811465|            N.A|            N.A|               N.A|               N.A|            29|               0|               0|             0|\n",
      "|846539cb21bc9e6c6...|10000000|           bank| 2014-15|    V K Ramachandran|        Y|CPI(M)|Others|          0|          0|                 0|            0|          0|          0|                 0|            0|          0|          0|          0|            0|          0|          0|                 0|            0|     150622128|      10000000|292470.1514563107|             515|                 N.A|                 N.A|          N.A|          N.A|V K Ramachandran|            N.A|            N.A|            N.A|            N.A|               N.A|            N.A|            N.A|               N.A|            N.A|            N.A|            N.A|            N.A|               N.A|               N.A|            N.A|            N.A|            N.A|            N.A|            N.A|            N.A|            N.A|            N.A|            N.A|            N.A|            N.A|            N.A|            N.A|            N.A|            N.A|            N.A|               N.A|            N.A|          34197498|            N.A|            N.A|            N.A|               N.A|               N.A|            N.A|            N.A|            N.A|               N.A|            N.A|               N.A|            N.A|            N.A|            N.A|            N.A|            N.A|            N.A|            N.A|            N.A|            N.A|            N.A|               N.A|               N.A|             0|               0|               0|          6845|\n",
      "|869fa3a19f1c51ad1...|  108000|         cheque| 2014-15|  Dr. Manmohan Singh|        N|   INC|Others| 4031487349|  500000000|1065122.1529722589|         3785|          0|          0|                 0|            0|          0|          0|          0|            0|          0|          0|                 0|            0|             0|             0|                0|               0|                 N.A|General Electoral...|          N.A|          N.A|             N.A|            N.A|            N.A|            N.A|            N.A|               N.A|            N.A|     1414610950|               N.A|            N.A|            N.A|            N.A|            N.A|               N.A|               N.A|            N.A|            N.A|            N.A|            N.A|            N.A|            N.A|            N.A|            N.A|            N.A|            N.A|            N.A|            N.A|            N.A|            N.A|            N.A|            N.A|               N.A|            N.A|               N.A|            N.A|            N.A|            N.A|               N.A|               N.A|            N.A|            N.A|            N.A|               N.A|            N.A|               N.A|            N.A|            N.A|            N.A|            N.A|            N.A|            N.A|            N.A|            N.A|            N.A|            N.A|               N.A|               N.A|             0|            2683|               0|             0|\n",
      "|5f04f40130569ddab...|   54000|           bank| 2011-12| Dr. Manda Jagnathan|        N|   INC|Others| 4031487349|  500000000|1065122.1529722589|         3785|          0|          0|                 0|            0|          0|          0|          0|            0|          0|          0|                 0|            0|             0|             0|                0|               0|                 N.A|General Electoral...|          N.A|          N.A|             N.A|            N.A|            N.A|            N.A|            N.A|               N.A|            N.A|            N.A|               N.A|            N.A|            N.A|            N.A|            N.A|               N.A|               N.A|            N.A|            N.A|            N.A|            N.A|            N.A|            N.A|            N.A|            N.A|            N.A|            N.A|            N.A|            N.A|            N.A|            N.A|            N.A|            N.A|               N.A|            N.A|               N.A|       95910664|            N.A|            N.A|               N.A|               N.A|            N.A|            N.A|            N.A|               N.A|            N.A|               N.A|            N.A|            N.A|            N.A|            N.A|            N.A|            N.A|            N.A|            N.A|            N.A|            N.A|               N.A|               N.A|             0|               0|               0|          6845|\n",
      "|524b1379d08e4c02f...|   54000|           bank| 2011-12|    Prof. K.V.Thomas|        N|   INC|Others| 4031487349|  500000000|1065122.1529722589|         3785|          0|          0|                 0|            0|          0|          0|          0|            0|          0|          0|                 0|            0|             0|             0|                0|               0|                 N.A|General Electoral...|          N.A|          N.A|             N.A|            N.A|            N.A|            N.A|            N.A|               N.A|            N.A|            N.A|               N.A|            N.A|            N.A|            N.A|            N.A|               N.A|               N.A|            N.A|            N.A|            N.A|            N.A|            N.A|            N.A|            N.A|            N.A|            N.A|            N.A|            N.A|            N.A|            N.A|            N.A|            N.A|            N.A|               N.A|            N.A|               N.A|       95910664|            N.A|            N.A|               N.A|               N.A|            N.A|            N.A|            N.A|               N.A|            N.A|               N.A|            N.A|            N.A|            N.A|            N.A|            N.A|            N.A|            N.A|            N.A|            N.A|            N.A|               N.A|               N.A|             0|               0|               0|          6845|\n",
      "|6db7af0c5dca3b333...|  100000|         others| 2011-12|     Sweta Chyouksey|        Y|   BJP|Others|          0|          0|                 0|            0| 9295525996|  500000000|1058474.8344340697|         8782|          0|          0|          0|            0|          0|          0|                 0|            0|             0|             0|                0|               0|General Electoral...|                 N.A|          N.A|          N.A|             N.A|            N.A|            N.A|            N.A|            N.A|               N.A|            N.A|            N.A|               N.A|            N.A|      334194113|            N.A|            N.A|               N.A|               N.A|            N.A|            N.A|            N.A|            N.A|            N.A|            N.A|            N.A|            N.A|            N.A|            N.A|            N.A|            N.A|            N.A|            N.A|            N.A|            N.A|               N.A|            N.A|               N.A|            N.A|            N.A|            N.A|               N.A|               N.A|            N.A|            N.A|            N.A|               N.A|            N.A|               N.A|            N.A|            N.A|            N.A|            N.A|            N.A|            N.A|            N.A|            N.A|            N.A|            N.A|               N.A|               N.A|             0|               0|            4016|             0|\n",
      "|c01158e07376c3778...|  100000|         others| 2011-12|   Uma Shankar Gupta|        N|   BJP|Others|          0|          0|                 0|            0| 9295525996|  500000000|1058474.8344340697|         8782|          0|          0|          0|            0|          0|          0|                 0|            0|             0|             0|                0|               0|General Electoral...|                 N.A|          N.A|          N.A|             N.A|            N.A|            N.A|            N.A|            N.A|               N.A|            N.A|            N.A|               N.A|            N.A|      334194113|            N.A|            N.A|               N.A|               N.A|            N.A|            N.A|            N.A|            N.A|            N.A|            N.A|            N.A|            N.A|            N.A|            N.A|            N.A|            N.A|            N.A|            N.A|            N.A|            N.A|               N.A|            N.A|               N.A|            N.A|            N.A|            N.A|               N.A|               N.A|            N.A|            N.A|            N.A|               N.A|            N.A|               N.A|            N.A|            N.A|            N.A|            N.A|            N.A|            N.A|            N.A|            N.A|            N.A|            N.A|               N.A|               N.A|             0|               0|            4016|             0|\n",
      "|d8156bae0c4243d37...|   25000|           bank| 2013-14|Parshwanath Bhakt...|        N|   BJP|Others|          0|          0|                 0|            0| 9295525996|  500000000|1058474.8344340697|         8782|          0|          0|          0|            0|          0|          0|                 0|            0|             0|             0|                0|               0|General Electoral...|                 N.A|          N.A|          N.A|             N.A|            N.A|            N.A|            N.A|            N.A|               N.A|            N.A|            N.A|               N.A|            N.A|            N.A|            N.A|            N.A|               N.A|               N.A|            N.A|            N.A|            N.A|            N.A|            N.A|            N.A|            N.A|            N.A|            N.A|     1708636182|            N.A|            N.A|            N.A|            N.A|            N.A|            N.A|               N.A|            N.A|               N.A|            N.A|            N.A|            N.A|               N.A|               N.A|            N.A|            N.A|            N.A|               N.A|            N.A|               N.A|            N.A|            N.A|            N.A|            N.A|            N.A|            N.A|            N.A|            N.A|            N.A|            N.A|               N.A|               N.A|             0|               0|               0|          6845|\n",
      "|15c64efe58b209e20...|  100000|         others| 2011-12|Anand Constructio...|        Y|   BJP|Others|          0|          0|                 0|            0| 9295525996|  500000000|1058474.8344340697|         8782|          0|          0|          0|            0|          0|          0|                 0|            0|             0|             0|                0|               0|General Electoral...|                 N.A|          N.A|          N.A|             N.A|            N.A|            N.A|            N.A|            N.A|               N.A|            N.A|            N.A|               N.A|            N.A|      334194113|            N.A|            N.A|               N.A|               N.A|            N.A|            N.A|            N.A|            N.A|            N.A|            N.A|            N.A|            N.A|            N.A|            N.A|            N.A|            N.A|            N.A|            N.A|            N.A|            N.A|               N.A|            N.A|               N.A|            N.A|            N.A|            N.A|               N.A|               N.A|            N.A|            N.A|            N.A|               N.A|            N.A|               N.A|            N.A|            N.A|            N.A|            N.A|            N.A|            N.A|            N.A|            N.A|            N.A|            N.A|               N.A|               N.A|             0|               0|            4016|             0|\n",
      "|c8087c832dde2a1c4...|   54000|           bank| 2013-14|       Kamal Kashore|        N|   INC|Others| 4031487349|  500000000|1065122.1529722589|         3785|          0|          0|                 0|            0|          0|          0|          0|            0|          0|          0|                 0|            0|             0|             0|                0|               0|                 N.A|General Electoral...|          N.A|          N.A|             N.A|            N.A|            N.A|      595837728|            N.A|               N.A|            N.A|            N.A|               N.A|            N.A|            N.A|            N.A|            N.A|               N.A|               N.A|            N.A|            N.A|            N.A|            N.A|            N.A|            N.A|            N.A|            N.A|            N.A|            N.A|            N.A|            N.A|            N.A|            N.A|            N.A|            N.A|               N.A|            N.A|               N.A|            N.A|            N.A|            N.A|               N.A|               N.A|            N.A|            N.A|            N.A|               N.A|            N.A|               N.A|            N.A|            N.A|            N.A|            N.A|            N.A|            N.A|            N.A|            N.A|            N.A|            N.A|               N.A|               N.A|             0|               0|               0|          6845|\n",
      "+--------------------+--------+---------------+--------+--------------------+---------+------+------+-----------+-----------+------------------+-------------+-----------+-----------+------------------+-------------+-----------+-----------+-----------+-------------+-----------+-----------+------------------+-------------+--------------+--------------+-----------------+----------------+--------------------+--------------------+-------------+-------------+----------------+---------------+---------------+---------------+---------------+------------------+---------------+---------------+------------------+---------------+---------------+---------------+---------------+------------------+------------------+---------------+---------------+---------------+---------------+---------------+---------------+---------------+---------------+---------------+---------------+---------------+---------------+---------------+---------------+---------------+---------------+------------------+---------------+------------------+---------------+---------------+---------------+------------------+------------------+---------------+---------------+---------------+------------------+---------------+------------------+---------------+---------------+---------------+---------------+---------------+---------------+---------------+---------------+---------------+---------------+------------------+------------------+--------------+----------------+----------------+--------------+\n",
      "only showing top 10 rows\n",
      "\n"
     ]
    }
   ],
   "source": [
    "#displaying final dataframe\n",
    "df.show(10)"
   ]
  },
  {
   "cell_type": "markdown",
   "metadata": {},
   "source": [
    "Task 8: Writing data into Parquet file:"
   ]
  },
  {
   "cell_type": "code",
   "execution_count": 109,
   "metadata": {},
   "outputs": [],
   "source": [
    "# df.write.parquet(\"Donation_data.parquet\")\n",
    "#parquet file was created by running notebook on colab"
   ]
  },
  {
   "cell_type": "code",
   "execution_count": null,
   "metadata": {},
   "outputs": [],
   "source": []
  }
 ],
 "metadata": {
  "kernelspec": {
   "display_name": "Python 3.9.13 64-bit",
   "language": "python",
   "name": "python3"
  },
  "language_info": {
   "codemirror_mode": {
    "name": "ipython",
    "version": 3
   },
   "file_extension": ".py",
   "mimetype": "text/x-python",
   "name": "python",
   "nbconvert_exporter": "python",
   "pygments_lexer": "ipython3",
   "version": "3.9.13"
  },
  "orig_nbformat": 4,
  "vscode": {
   "interpreter": {
    "hash": "a37abbf0a6a14adc4e519bb0e102ef5652309b31d0f30250d435568e389a13ba"
   }
  }
 },
 "nbformat": 4,
 "nbformat_minor": 2
}
