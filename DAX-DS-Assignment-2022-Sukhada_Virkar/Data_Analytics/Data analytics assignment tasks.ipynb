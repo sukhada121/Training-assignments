{
 "cells": [
  {
   "cell_type": "markdown",
   "id": "1e56fa22",
   "metadata": {},
   "source": [
    "# Import required libraries"
   ]
  },
  {
   "cell_type": "code",
   "execution_count": 318,
   "id": "5c336136",
   "metadata": {},
   "outputs": [],
   "source": [
    "import numpy as np\n",
    "import pandas as pd\n",
    "import matplotlib.pyplot as plt\n",
    "import seaborn as sns"
   ]
  },
  {
   "cell_type": "markdown",
   "id": "2c4f8d38",
   "metadata": {},
   "source": [
    "# 1. Load csv file"
   ]
  },
  {
   "cell_type": "code",
   "execution_count": 319,
   "id": "c1b99d5d",
   "metadata": {},
   "outputs": [],
   "source": [
    "df=pd.read_csv(\"healthcare-dataset-stroke-data.csv\")"
   ]
  },
  {
   "cell_type": "markdown",
   "id": "2569e662",
   "metadata": {},
   "source": [
    "# 2. Explore data"
   ]
  },
  {
   "cell_type": "code",
   "execution_count": 320,
   "id": "bd64e8cb",
   "metadata": {},
   "outputs": [
    {
     "data": {
      "text/html": [
       "<div>\n",
       "<style scoped>\n",
       "    .dataframe tbody tr th:only-of-type {\n",
       "        vertical-align: middle;\n",
       "    }\n",
       "\n",
       "    .dataframe tbody tr th {\n",
       "        vertical-align: top;\n",
       "    }\n",
       "\n",
       "    .dataframe thead th {\n",
       "        text-align: right;\n",
       "    }\n",
       "</style>\n",
       "<table border=\"1\" class=\"dataframe\">\n",
       "  <thead>\n",
       "    <tr style=\"text-align: right;\">\n",
       "      <th></th>\n",
       "      <th>id</th>\n",
       "      <th>gender</th>\n",
       "      <th>age</th>\n",
       "      <th>hypertension</th>\n",
       "      <th>heart_disease</th>\n",
       "      <th>ever_married</th>\n",
       "      <th>work_type</th>\n",
       "      <th>Residence_type</th>\n",
       "      <th>avg_glucose_level</th>\n",
       "      <th>bmi</th>\n",
       "      <th>smoking_status</th>\n",
       "      <th>stroke</th>\n",
       "    </tr>\n",
       "  </thead>\n",
       "  <tbody>\n",
       "    <tr>\n",
       "      <th>0</th>\n",
       "      <td>9046</td>\n",
       "      <td>Male</td>\n",
       "      <td>67.0</td>\n",
       "      <td>0</td>\n",
       "      <td>1</td>\n",
       "      <td>Yes</td>\n",
       "      <td>Private</td>\n",
       "      <td>Urban</td>\n",
       "      <td>228.69</td>\n",
       "      <td>36.6</td>\n",
       "      <td>formerly smoked</td>\n",
       "      <td>1</td>\n",
       "    </tr>\n",
       "    <tr>\n",
       "      <th>1</th>\n",
       "      <td>51676</td>\n",
       "      <td>Female</td>\n",
       "      <td>61.0</td>\n",
       "      <td>0</td>\n",
       "      <td>0</td>\n",
       "      <td>Yes</td>\n",
       "      <td>Self-employed</td>\n",
       "      <td>Rural</td>\n",
       "      <td>202.21</td>\n",
       "      <td>NaN</td>\n",
       "      <td>never smoked</td>\n",
       "      <td>1</td>\n",
       "    </tr>\n",
       "    <tr>\n",
       "      <th>2</th>\n",
       "      <td>31112</td>\n",
       "      <td>Male</td>\n",
       "      <td>80.0</td>\n",
       "      <td>0</td>\n",
       "      <td>1</td>\n",
       "      <td>Yes</td>\n",
       "      <td>Private</td>\n",
       "      <td>Rural</td>\n",
       "      <td>105.92</td>\n",
       "      <td>32.5</td>\n",
       "      <td>never smoked</td>\n",
       "      <td>1</td>\n",
       "    </tr>\n",
       "    <tr>\n",
       "      <th>3</th>\n",
       "      <td>60182</td>\n",
       "      <td>Female</td>\n",
       "      <td>49.0</td>\n",
       "      <td>0</td>\n",
       "      <td>0</td>\n",
       "      <td>Yes</td>\n",
       "      <td>Private</td>\n",
       "      <td>Urban</td>\n",
       "      <td>171.23</td>\n",
       "      <td>34.4</td>\n",
       "      <td>smokes</td>\n",
       "      <td>1</td>\n",
       "    </tr>\n",
       "    <tr>\n",
       "      <th>4</th>\n",
       "      <td>1665</td>\n",
       "      <td>Female</td>\n",
       "      <td>79.0</td>\n",
       "      <td>1</td>\n",
       "      <td>0</td>\n",
       "      <td>Yes</td>\n",
       "      <td>Self-employed</td>\n",
       "      <td>Rural</td>\n",
       "      <td>174.12</td>\n",
       "      <td>24.0</td>\n",
       "      <td>never smoked</td>\n",
       "      <td>1</td>\n",
       "    </tr>\n",
       "  </tbody>\n",
       "</table>\n",
       "</div>"
      ],
      "text/plain": [
       "      id  gender   age  hypertension  heart_disease ever_married  \\\n",
       "0   9046    Male  67.0             0              1          Yes   \n",
       "1  51676  Female  61.0             0              0          Yes   \n",
       "2  31112    Male  80.0             0              1          Yes   \n",
       "3  60182  Female  49.0             0              0          Yes   \n",
       "4   1665  Female  79.0             1              0          Yes   \n",
       "\n",
       "       work_type Residence_type  avg_glucose_level   bmi   smoking_status  \\\n",
       "0        Private          Urban             228.69  36.6  formerly smoked   \n",
       "1  Self-employed          Rural             202.21   NaN     never smoked   \n",
       "2        Private          Rural             105.92  32.5     never smoked   \n",
       "3        Private          Urban             171.23  34.4           smokes   \n",
       "4  Self-employed          Rural             174.12  24.0     never smoked   \n",
       "\n",
       "   stroke  \n",
       "0       1  \n",
       "1       1  \n",
       "2       1  \n",
       "3       1  \n",
       "4       1  "
      ]
     },
     "execution_count": 320,
     "metadata": {},
     "output_type": "execute_result"
    }
   ],
   "source": [
    "df.head()"
   ]
  },
  {
   "cell_type": "code",
   "execution_count": 321,
   "id": "1cc9aff7",
   "metadata": {},
   "outputs": [
    {
     "name": "stdout",
     "output_type": "stream",
     "text": [
      "<class 'pandas.core.frame.DataFrame'>\n",
      "RangeIndex: 5110 entries, 0 to 5109\n",
      "Data columns (total 12 columns):\n",
      " #   Column             Non-Null Count  Dtype  \n",
      "---  ------             --------------  -----  \n",
      " 0   id                 5110 non-null   int64  \n",
      " 1   gender             5110 non-null   object \n",
      " 2   age                5110 non-null   float64\n",
      " 3   hypertension       5110 non-null   int64  \n",
      " 4   heart_disease      5110 non-null   int64  \n",
      " 5   ever_married       5110 non-null   object \n",
      " 6   work_type          5110 non-null   object \n",
      " 7   Residence_type     5110 non-null   object \n",
      " 8   avg_glucose_level  5110 non-null   float64\n",
      " 9   bmi                4909 non-null   float64\n",
      " 10  smoking_status     5110 non-null   object \n",
      " 11  stroke             5110 non-null   int64  \n",
      "dtypes: float64(3), int64(4), object(5)\n",
      "memory usage: 479.2+ KB\n"
     ]
    }
   ],
   "source": [
    "df.info()"
   ]
  },
  {
   "cell_type": "code",
   "execution_count": null,
   "id": "2269d878",
   "metadata": {},
   "outputs": [],
   "source": []
  },
  {
   "cell_type": "markdown",
   "id": "651d0c68",
   "metadata": {},
   "source": [
    "## 1) Total records"
   ]
  },
  {
   "cell_type": "code",
   "execution_count": 322,
   "id": "4cd3878e",
   "metadata": {},
   "outputs": [
    {
     "data": {
      "text/plain": [
       "5110"
      ]
     },
     "execution_count": 322,
     "metadata": {},
     "output_type": "execute_result"
    }
   ],
   "source": [
    "len(df)"
   ]
  },
  {
   "cell_type": "markdown",
   "id": "f5725a22",
   "metadata": {},
   "source": [
    "## 2) Null count"
   ]
  },
  {
   "cell_type": "code",
   "execution_count": 323,
   "id": "3f48b614",
   "metadata": {},
   "outputs": [
    {
     "data": {
      "text/plain": [
       "id                     0\n",
       "gender                 0\n",
       "age                    0\n",
       "hypertension           0\n",
       "heart_disease          0\n",
       "ever_married           0\n",
       "work_type              0\n",
       "Residence_type         0\n",
       "avg_glucose_level      0\n",
       "bmi                  201\n",
       "smoking_status         0\n",
       "stroke                 0\n",
       "dtype: int64"
      ]
     },
     "execution_count": 323,
     "metadata": {},
     "output_type": "execute_result"
    }
   ],
   "source": [
    "#checking null values\n",
    "df.isna().sum()"
   ]
  },
  {
   "cell_type": "markdown",
   "id": "f113b5f1",
   "metadata": {},
   "source": [
    "## 3) Mean, median, std-dev for each numerical column"
   ]
  },
  {
   "cell_type": "code",
   "execution_count": 324,
   "id": "5217d19d",
   "metadata": {},
   "outputs": [
    {
     "data": {
      "text/html": [
       "<div>\n",
       "<style scoped>\n",
       "    .dataframe tbody tr th:only-of-type {\n",
       "        vertical-align: middle;\n",
       "    }\n",
       "\n",
       "    .dataframe tbody tr th {\n",
       "        vertical-align: top;\n",
       "    }\n",
       "\n",
       "    .dataframe thead th {\n",
       "        text-align: right;\n",
       "    }\n",
       "</style>\n",
       "<table border=\"1\" class=\"dataframe\">\n",
       "  <thead>\n",
       "    <tr style=\"text-align: right;\">\n",
       "      <th></th>\n",
       "      <th>id</th>\n",
       "      <th>age</th>\n",
       "      <th>hypertension</th>\n",
       "      <th>heart_disease</th>\n",
       "      <th>avg_glucose_level</th>\n",
       "      <th>bmi</th>\n",
       "      <th>stroke</th>\n",
       "    </tr>\n",
       "  </thead>\n",
       "  <tbody>\n",
       "    <tr>\n",
       "      <th>count</th>\n",
       "      <td>5110.000000</td>\n",
       "      <td>5110.000000</td>\n",
       "      <td>5110.000000</td>\n",
       "      <td>5110.000000</td>\n",
       "      <td>5110.000000</td>\n",
       "      <td>4909.000000</td>\n",
       "      <td>5110.000000</td>\n",
       "    </tr>\n",
       "    <tr>\n",
       "      <th>mean</th>\n",
       "      <td>36517.829354</td>\n",
       "      <td>43.226614</td>\n",
       "      <td>0.097456</td>\n",
       "      <td>0.054012</td>\n",
       "      <td>106.147677</td>\n",
       "      <td>28.893237</td>\n",
       "      <td>0.048728</td>\n",
       "    </tr>\n",
       "    <tr>\n",
       "      <th>std</th>\n",
       "      <td>21161.721625</td>\n",
       "      <td>22.612647</td>\n",
       "      <td>0.296607</td>\n",
       "      <td>0.226063</td>\n",
       "      <td>45.283560</td>\n",
       "      <td>7.854067</td>\n",
       "      <td>0.215320</td>\n",
       "    </tr>\n",
       "    <tr>\n",
       "      <th>min</th>\n",
       "      <td>67.000000</td>\n",
       "      <td>0.080000</td>\n",
       "      <td>0.000000</td>\n",
       "      <td>0.000000</td>\n",
       "      <td>55.120000</td>\n",
       "      <td>10.300000</td>\n",
       "      <td>0.000000</td>\n",
       "    </tr>\n",
       "    <tr>\n",
       "      <th>25%</th>\n",
       "      <td>17741.250000</td>\n",
       "      <td>25.000000</td>\n",
       "      <td>0.000000</td>\n",
       "      <td>0.000000</td>\n",
       "      <td>77.245000</td>\n",
       "      <td>23.500000</td>\n",
       "      <td>0.000000</td>\n",
       "    </tr>\n",
       "    <tr>\n",
       "      <th>50%</th>\n",
       "      <td>36932.000000</td>\n",
       "      <td>45.000000</td>\n",
       "      <td>0.000000</td>\n",
       "      <td>0.000000</td>\n",
       "      <td>91.885000</td>\n",
       "      <td>28.100000</td>\n",
       "      <td>0.000000</td>\n",
       "    </tr>\n",
       "    <tr>\n",
       "      <th>75%</th>\n",
       "      <td>54682.000000</td>\n",
       "      <td>61.000000</td>\n",
       "      <td>0.000000</td>\n",
       "      <td>0.000000</td>\n",
       "      <td>114.090000</td>\n",
       "      <td>33.100000</td>\n",
       "      <td>0.000000</td>\n",
       "    </tr>\n",
       "    <tr>\n",
       "      <th>max</th>\n",
       "      <td>72940.000000</td>\n",
       "      <td>82.000000</td>\n",
       "      <td>1.000000</td>\n",
       "      <td>1.000000</td>\n",
       "      <td>271.740000</td>\n",
       "      <td>97.600000</td>\n",
       "      <td>1.000000</td>\n",
       "    </tr>\n",
       "  </tbody>\n",
       "</table>\n",
       "</div>"
      ],
      "text/plain": [
       "                 id          age  hypertension  heart_disease  \\\n",
       "count   5110.000000  5110.000000   5110.000000    5110.000000   \n",
       "mean   36517.829354    43.226614      0.097456       0.054012   \n",
       "std    21161.721625    22.612647      0.296607       0.226063   \n",
       "min       67.000000     0.080000      0.000000       0.000000   \n",
       "25%    17741.250000    25.000000      0.000000       0.000000   \n",
       "50%    36932.000000    45.000000      0.000000       0.000000   \n",
       "75%    54682.000000    61.000000      0.000000       0.000000   \n",
       "max    72940.000000    82.000000      1.000000       1.000000   \n",
       "\n",
       "       avg_glucose_level          bmi       stroke  \n",
       "count        5110.000000  4909.000000  5110.000000  \n",
       "mean          106.147677    28.893237     0.048728  \n",
       "std            45.283560     7.854067     0.215320  \n",
       "min            55.120000    10.300000     0.000000  \n",
       "25%            77.245000    23.500000     0.000000  \n",
       "50%            91.885000    28.100000     0.000000  \n",
       "75%           114.090000    33.100000     0.000000  \n",
       "max           271.740000    97.600000     1.000000  "
      ]
     },
     "execution_count": 324,
     "metadata": {},
     "output_type": "execute_result"
    }
   ],
   "source": [
    "df.describe()"
   ]
  },
  {
   "cell_type": "code",
   "execution_count": 325,
   "id": "e2fa85b1",
   "metadata": {},
   "outputs": [
    {
     "name": "stdout",
     "output_type": "stream",
     "text": [
      "\n",
      "For column: id\n",
      "Mean: 36517.82935420744\n",
      "Median: 36932.0\n",
      "Std dev: 21161.721624827165\n",
      "\n",
      "For column: age\n",
      "Mean: 43.226614481409\n",
      "Median: 45.0\n",
      "Std dev: 22.61264672311349\n",
      "\n",
      "For column: hypertension\n",
      "Mean: 0.0974559686888454\n",
      "Median: 0.0\n",
      "Std dev: 0.29660667423379117\n",
      "\n",
      "For column: heart_disease\n",
      "Mean: 0.05401174168297456\n",
      "Median: 0.0\n",
      "Std dev: 0.22606298750336543\n",
      "\n",
      "For column: avg_glucose_level\n",
      "Mean: 106.1476771037182\n",
      "Median: 91.88499999999999\n",
      "Std dev: 45.28356015058198\n",
      "\n",
      "For column: bmi\n",
      "Mean: 28.893236911794666\n",
      "Median: 28.1\n",
      "Std dev: 7.854066729680164\n",
      "\n",
      "For column: stroke\n",
      "Mean: 0.0487279843444227\n",
      "Median: 0.0\n",
      "Std dev: 0.2153198569802376\n"
     ]
    }
   ],
   "source": [
    "numeric_cols=['id','age','hypertension','heart_disease','avg_glucose_level','bmi','stroke']\n",
    "for col in numeric_cols:\n",
    "    print(\"\\nFor column:\",col)\n",
    "    print(\"Mean:\",df[col].mean())\n",
    "    print(\"Median:\",df[col].median())\n",
    "    print(\"Std dev:\",df[col].std())\n",
    "    "
   ]
  },
  {
   "cell_type": "markdown",
   "id": "22780dc4",
   "metadata": {},
   "source": [
    "# 1. Plot charts "
   ]
  },
  {
   "cell_type": "code",
   "execution_count": 326,
   "id": "6d0d5115",
   "metadata": {},
   "outputs": [
    {
     "data": {
      "text/plain": [
       "<AxesSubplot:xlabel='age', ylabel='Count'>"
      ]
     },
     "execution_count": 326,
     "metadata": {},
     "output_type": "execute_result"
    },
    {
     "data": {
      "image/png": "[encoded data removed]",
      "text/plain": [
       "<Figure size 432x288 with 1 Axes>"
      ]
     },
     "metadata": {
      "needs_background": "light"
     },
     "output_type": "display_data"
    }
   ],
   "source": [
    "sns.histplot(data=df, x=\"age\")\n",
    "\n",
    "# The below histplot shows that the highest number of the data points for age attribute lie in the 40-60 range \n",
    "# and there is also a high count for age=80"
   ]
  },
  {
   "cell_type": "code",
   "execution_count": 327,
   "id": "2bc47b9c",
   "metadata": {},
   "outputs": [
    {
     "data": {
      "text/plain": [
       "<AxesSubplot:xlabel='stroke', ylabel='count'>"
      ]
     },
     "execution_count": 327,
     "metadata": {},
     "output_type": "execute_result"
    },
    {
     "data": {
      "image/png": "[encoded data removed]",
      "text/plain": [
       "<Figure size 432x288 with 1 Axes>"
      ]
     },
     "metadata": {
      "needs_background": "light"
     },
     "output_type": "display_data"
    }
   ],
   "source": [
    "sns.countplot(data=df,x='stroke')\n",
    "# The below count plot shows that the target variable-stroke does not have a balanced count in the dataset as very few data points have stroke=1\n",
    "# and most of the data points have stroke=0 which can cause the model to be biased towards the 'no stroke' (0) class"
   ]
  },
  {
   "cell_type": "code",
   "execution_count": 328,
   "id": "27f922e5",
   "metadata": {},
   "outputs": [
    {
     "data": {
      "text/plain": [
       "<AxesSubplot:xlabel='work_type', ylabel='count'>"
      ]
     },
     "execution_count": 328,
     "metadata": {},
     "output_type": "execute_result"
    },
    {
     "data": {
      "image/png": "[encoded data removed]",
      "text/plain": [
       "<Figure size 432x288 with 1 Axes>"
      ]
     },
     "metadata": {
      "needs_background": "light"
     },
     "output_type": "display_data"
    }
   ],
   "source": [
    "sns.countplot(data=df, x=\"work_type\")\n",
    "# The count plot shown below gives the categorical distribution for the work_type attribute \n",
    "# and we can see that most of the data points are in the 'private' category"
   ]
  },
  {
   "cell_type": "code",
   "execution_count": 329,
   "id": "8cce858e",
   "metadata": {},
   "outputs": [
    {
     "data": {
      "image/png": "[encoded data removed]",
      "text/plain": [
       "<Figure size 432x288 with 1 Axes>"
      ]
     },
     "metadata": {},
     "output_type": "display_data"
    }
   ],
   "source": [
    "count_female=df['gender'].value_counts()[0]\n",
    "count_male=df['gender'].value_counts()[1]\n",
    "count_other=df['gender'].value_counts()[2]\n",
    "\n",
    "data=[count_female,count_male,count_other]\n",
    "labels=['Female','Male','Other']\n",
    "\n",
    "colors=sns.color_palette('pastel')\n",
    "\n",
    "#create pie chart\n",
    "plt.pie(data,labels=labels,colors=colors,autopct='%.0f%%')\n",
    "plt.show()\n",
    "\n",
    "# The below plot shows us the gender distribution in the data.\n",
    "# Thus, we can observe that there is a higher count of Females (59%) than Males (41%) for the gender attribute, which might affect the model. \n"
   ]
  },
  {
   "cell_type": "markdown",
   "id": "38ff730f",
   "metadata": {},
   "source": [
    "## 2. Check if bmi has null values"
   ]
  },
  {
   "cell_type": "code",
   "execution_count": 330,
   "id": "025fb43e",
   "metadata": {},
   "outputs": [
    {
     "data": {
      "text/plain": [
       "201"
      ]
     },
     "execution_count": 330,
     "metadata": {},
     "output_type": "execute_result"
    }
   ],
   "source": [
    "df['bmi'].isna().sum()\n"
   ]
  },
  {
   "cell_type": "markdown",
   "id": "c988ca24",
   "metadata": {},
   "source": [
    "## Percentage of bmi null values"
   ]
  },
  {
   "cell_type": "code",
   "execution_count": 331,
   "id": "ccc1ec35",
   "metadata": {},
   "outputs": [
    {
     "name": "stdout",
     "output_type": "stream",
     "text": [
      "3.93 %\n"
     ]
    }
   ],
   "source": [
    "bmi_null_count=df['bmi'].isna().sum()\n",
    "bmi_count=len(df['bmi'])\n",
    "percent_null=(bmi_null_count/bmi_count)*100\n",
    "print(round(percent_null,2),\"%\")"
   ]
  },
  {
   "cell_type": "markdown",
   "id": "377009ae",
   "metadata": {},
   "source": [
    "## Using data engineering method to fill the null values"
   ]
  },
  {
   "cell_type": "code",
   "execution_count": 332,
   "id": "f0452b58",
   "metadata": {},
   "outputs": [
    {
     "name": "stdout",
     "output_type": "stream",
     "text": [
      "28.89\n"
     ]
    }
   ],
   "source": [
    "#using bmi mean to fill null values since it is a continuous attribute\n",
    "bmi_mean=round(df['bmi'].mean(),2)\n",
    "print(bmi_mean)\n",
    "\n",
    "#filling null values\n",
    "df['bmi']=df['bmi'].fillna(bmi_mean)"
   ]
  },
  {
   "cell_type": "code",
   "execution_count": 333,
   "id": "5a44ca20",
   "metadata": {},
   "outputs": [
    {
     "data": {
      "text/plain": [
       "0"
      ]
     },
     "execution_count": 333,
     "metadata": {},
     "output_type": "execute_result"
    }
   ],
   "source": [
    "df['bmi'].isna().sum()\n",
    "#filled null values"
   ]
  },
  {
   "cell_type": "markdown",
   "id": "79f25d43",
   "metadata": {},
   "source": [
    "## 3. Remove outliers"
   ]
  },
  {
   "cell_type": "markdown",
   "id": "a8675a31",
   "metadata": {},
   "source": [
    "## 1) For bmi numeric column:"
   ]
  },
  {
   "cell_type": "code",
   "execution_count": 334,
   "id": "63182e2e",
   "metadata": {},
   "outputs": [
    {
     "name": "stderr",
     "output_type": "stream",
     "text": [
      "C:\\Users\\svirka\\Desktop\\DAX-DS-Assignment-2022-Sukhada_Virkar\\venv\\lib\\site-packages\\seaborn\\distributions.py:2619: FutureWarning: `distplot` is a deprecated function and will be removed in a future version. Please adapt your code to use either `displot` (a figure-level function with similar flexibility) or `histplot` (an axes-level function for histograms).\n",
      "  warnings.warn(msg, FutureWarning)\n"
     ]
    },
    {
     "data": {
      "image/png": "[encoded data removed]",
      "text/plain": [
       "<Figure size 1152x360 with 1 Axes>"
      ]
     },
     "metadata": {
      "needs_background": "light"
     },
     "output_type": "display_data"
    }
   ],
   "source": [
    "# bmi column distribution\n",
    "plt.figure(figsize=(16,5))\n",
    "plt.subplot(1,2,1)\n",
    "sns.distplot(df['bmi'])\n",
    "plt.show()"
   ]
  },
  {
   "cell_type": "code",
   "execution_count": 335,
   "id": "362266ca",
   "metadata": {
    "scrolled": true
   },
   "outputs": [
    {
     "name": "stderr",
     "output_type": "stream",
     "text": [
      "C:\\Users\\svirka\\Desktop\\DAX-DS-Assignment-2022-Sukhada_Virkar\\venv\\lib\\site-packages\\seaborn\\_decorators.py:36: FutureWarning: Pass the following variable as a keyword arg: x. From version 0.12, the only valid positional argument will be `data`, and passing other arguments without an explicit keyword will result in an error or misinterpretation.\n",
      "  warnings.warn(\n"
     ]
    },
    {
     "data": {
      "text/plain": [
       "<AxesSubplot:xlabel='bmi'>"
      ]
     },
     "execution_count": 335,
     "metadata": {},
     "output_type": "execute_result"
    },
    {
     "data": {
      "image/png": "[encoded data removed]",
      "text/plain": [
       "<Figure size 432x288 with 1 Axes>"
      ]
     },
     "metadata": {
      "needs_background": "light"
     },
     "output_type": "display_data"
    }
   ],
   "source": [
    "# checking box plot to detect outliers\n",
    "sns.boxplot(df['bmi'])"
   ]
  },
  {
   "cell_type": "code",
   "execution_count": 336,
   "id": "2e1effcc",
   "metadata": {},
   "outputs": [
    {
     "name": "stdout",
     "output_type": "stream",
     "text": [
      "Mean is 28.893109589041092\n",
      "Std-dev is 7.69726458501385\n"
     ]
    }
   ],
   "source": [
    "# we can see using above box plot that there are a lot of outliers after bmi=50\n",
    "mean=np.mean(df['bmi'])\n",
    "std=np.std(df['bmi'])\n",
    "print('Mean is',mean)\n",
    "print('Std-dev is',std)"
   ]
  },
  {
   "cell_type": "markdown",
   "id": "1f28a339",
   "metadata": {},
   "source": [
    "## Using Z-score to remove outliers"
   ]
  },
  {
   "cell_type": "code",
   "execution_count": 337,
   "id": "d9dde4a2",
   "metadata": {},
   "outputs": [
    {
     "name": "stdout",
     "output_type": "stream",
     "text": [
      "Outliers in dataset are: [56.6, 54.6, 60.9, 54.7, 64.8, 54.7, 60.2, 71.9, 54.6, 55.7, 55.7, 57.5, 54.2, 52.3, 78.0, 53.4, 55.2, 55.0, 54.8, 52.8, 66.8, 55.1, 55.9, 57.3, 56.0, 57.7, 54.0, 56.1, 97.6, 53.9, 53.8, 52.7, 52.8, 55.7, 53.5, 63.3, 52.8, 61.2, 58.1, 52.7, 53.4, 59.7, 52.5, 52.9, 54.7, 61.6, 53.8, 54.3, 55.0, 57.2, 64.4, 92.0, 55.9, 57.9, 55.7, 57.2, 60.9, 54.1, 56.6]\n",
      "Outlier start point: 52.3\n"
     ]
    }
   ],
   "source": [
    "threshold=3\n",
    "outlier=[]\n",
    "\n",
    "for i in df['bmi']:\n",
    "    z=(i-mean)/std\n",
    "    if z>threshold:\n",
    "        outlier.append(i)\n",
    "           \n",
    "print('Outliers in dataset are:',outlier)\n",
    "print(\"Outlier start point:\",min(outlier))"
   ]
  },
  {
   "cell_type": "code",
   "execution_count": 338,
   "id": "3be943b5",
   "metadata": {},
   "outputs": [
    {
     "data": {
      "text/plain": [
       "(5110,)"
      ]
     },
     "execution_count": 338,
     "metadata": {},
     "output_type": "execute_result"
    }
   ],
   "source": [
    "df['bmi'].shape"
   ]
  },
  {
   "cell_type": "code",
   "execution_count": 339,
   "id": "98636ead",
   "metadata": {},
   "outputs": [],
   "source": [
    "outlier_start_point=min(outlier)\n",
    "\n",
    "#removing outliers \n",
    "new_df = df[df['bmi'] <= outlier_start_point ]"
   ]
  },
  {
   "cell_type": "code",
   "execution_count": 340,
   "id": "a667d700",
   "metadata": {},
   "outputs": [
    {
     "data": {
      "text/plain": [
       "(5052,)"
      ]
     },
     "execution_count": 340,
     "metadata": {},
     "output_type": "execute_result"
    }
   ],
   "source": [
    "#checking shape after outlier removal\n",
    "new_df['bmi'].shape"
   ]
  },
  {
   "cell_type": "code",
   "execution_count": 341,
   "id": "58a887ea",
   "metadata": {},
   "outputs": [
    {
     "name": "stderr",
     "output_type": "stream",
     "text": [
      "C:\\Users\\svirka\\Desktop\\DAX-DS-Assignment-2022-Sukhada_Virkar\\venv\\lib\\site-packages\\seaborn\\distributions.py:2619: FutureWarning: `distplot` is a deprecated function and will be removed in a future version. Please adapt your code to use either `displot` (a figure-level function with similar flexibility) or `histplot` (an axes-level function for histograms).\n",
      "  warnings.warn(msg, FutureWarning)\n"
     ]
    },
    {
     "data": {
      "image/png": "[encoded data removed]",
      "text/plain": [
       "<Figure size 1152x360 with 1 Axes>"
      ]
     },
     "metadata": {
      "needs_background": "light"
     },
     "output_type": "display_data"
    }
   ],
   "source": [
    "#bmi column distribution after removing outliers\n",
    "plt.figure(figsize=(16,5))\n",
    "plt.subplot(1,2,1)\n",
    "sns.distplot(new_df['bmi'])\n",
    "plt.show()"
   ]
  },
  {
   "cell_type": "markdown",
   "id": "7f4b9604",
   "metadata": {},
   "source": [
    "## 2) Removing outliers for avg_glucose_level column"
   ]
  },
  {
   "cell_type": "code",
   "execution_count": 342,
   "id": "0e13a128",
   "metadata": {},
   "outputs": [
    {
     "name": "stderr",
     "output_type": "stream",
     "text": [
      "C:\\Users\\svirka\\Desktop\\DAX-DS-Assignment-2022-Sukhada_Virkar\\venv\\lib\\site-packages\\seaborn\\distributions.py:2619: FutureWarning: `distplot` is a deprecated function and will be removed in a future version. Please adapt your code to use either `displot` (a figure-level function with similar flexibility) or `histplot` (an axes-level function for histograms).\n",
      "  warnings.warn(msg, FutureWarning)\n"
     ]
    },
    {
     "data": {
      "image/png": "[encoded data removed]",
      "text/plain": [
       "<Figure size 1152x360 with 1 Axes>"
      ]
     },
     "metadata": {
      "needs_background": "light"
     },
     "output_type": "display_data"
    }
   ],
   "source": [
    "# avg_glucose_level column distribution\n",
    "plt.figure(figsize=(16,5))\n",
    "plt.subplot(1,2,1)\n",
    "sns.distplot(new_df['avg_glucose_level'])\n",
    "plt.show()"
   ]
  },
  {
   "cell_type": "code",
   "execution_count": 343,
   "id": "9fe99edc",
   "metadata": {},
   "outputs": [
    {
     "name": "stderr",
     "output_type": "stream",
     "text": [
      "C:\\Users\\svirka\\Desktop\\DAX-DS-Assignment-2022-Sukhada_Virkar\\venv\\lib\\site-packages\\seaborn\\_decorators.py:36: FutureWarning: Pass the following variable as a keyword arg: x. From version 0.12, the only valid positional argument will be `data`, and passing other arguments without an explicit keyword will result in an error or misinterpretation.\n",
      "  warnings.warn(\n"
     ]
    },
    {
     "data": {
      "text/plain": [
       "<AxesSubplot:xlabel='avg_glucose_level'>"
      ]
     },
     "execution_count": 343,
     "metadata": {},
     "output_type": "execute_result"
    },
    {
     "data": {
      "image/png": "[encoded data removed]",
      "text/plain": [
       "<Figure size 432x288 with 1 Axes>"
      ]
     },
     "metadata": {
      "needs_background": "light"
     },
     "output_type": "display_data"
    }
   ],
   "source": [
    "# checking box plot to detect outliers\n",
    "sns.boxplot(new_df['avg_glucose_level'])"
   ]
  },
  {
   "cell_type": "code",
   "execution_count": 344,
   "id": "622a79c2",
   "metadata": {},
   "outputs": [
    {
     "name": "stdout",
     "output_type": "stream",
     "text": [
      "Mean is 105.96277513855898\n",
      "Std-dev is 45.05584059226029\n"
     ]
    }
   ],
   "source": [
    "# we can see using above box plot that there are a lot of outliers \n",
    "mean=np.mean(new_df['avg_glucose_level'])\n",
    "std=np.std(new_df['avg_glucose_level'])\n",
    "print('Mean is',mean)\n",
    "print('Std-dev is',std)"
   ]
  },
  {
   "cell_type": "markdown",
   "id": "a1f1c478",
   "metadata": {},
   "source": [
    "## Using Z-score to remove outliers"
   ]
  },
  {
   "cell_type": "code",
   "execution_count": 345,
   "id": "be302e22",
   "metadata": {},
   "outputs": [
    {
     "name": "stdout",
     "output_type": "stream",
     "text": [
      "Outliers in dataset are: [252.72, 243.58, 259.63, 249.31, 263.32, 271.74, 242.52, 250.89, 247.51, 243.53, 242.3, 243.5, 251.6, 247.69, 250.2, 254.6, 254.63, 246.34, 251.46, 267.76, 246.53, 244.28, 251.99, 253.16, 242.84, 249.29, 242.94, 247.48, 266.59, 243.73, 243.59, 250.8, 255.17, 267.61, 260.85, 248.37, 263.56, 247.97, 248.24, 253.93, 254.95, 247.87, 261.67, 256.74, 244.3, 242.62, 243.52, 267.6, 253.86]\n",
      "Outlier start point: 242.3\n"
     ]
    }
   ],
   "source": [
    "threshold=3\n",
    "outlier=[]\n",
    "\n",
    "for i in new_df['avg_glucose_level']:\n",
    "    z=(i-mean)/std\n",
    "    if z>threshold:\n",
    "        outlier.append(i)\n",
    "           \n",
    "print('Outliers in dataset are:',outlier)\n",
    "print(\"Outlier start point:\",min(outlier))"
   ]
  },
  {
   "cell_type": "code",
   "execution_count": 346,
   "id": "880b23ba",
   "metadata": {},
   "outputs": [
    {
     "data": {
      "text/plain": [
       "(5052,)"
      ]
     },
     "execution_count": 346,
     "metadata": {},
     "output_type": "execute_result"
    }
   ],
   "source": [
    "new_df['avg_glucose_level'].shape"
   ]
  },
  {
   "cell_type": "code",
   "execution_count": 347,
   "id": "babc7a08",
   "metadata": {},
   "outputs": [],
   "source": [
    "outlier_start_point=min(outlier)\n",
    "\n",
    "#removing outliers \n",
    "df_new = new_df[new_df['avg_glucose_level'] <= outlier_start_point ]"
   ]
  },
  {
   "cell_type": "code",
   "execution_count": 348,
   "id": "731c442b",
   "metadata": {},
   "outputs": [
    {
     "data": {
      "text/plain": [
       "(5004,)"
      ]
     },
     "execution_count": 348,
     "metadata": {},
     "output_type": "execute_result"
    }
   ],
   "source": [
    "#checking shape after outlier removal\n",
    "df_new['avg_glucose_level'].shape"
   ]
  },
  {
   "cell_type": "code",
   "execution_count": 349,
   "id": "c80fb15f",
   "metadata": {},
   "outputs": [
    {
     "name": "stderr",
     "output_type": "stream",
     "text": [
      "C:\\Users\\svirka\\Desktop\\DAX-DS-Assignment-2022-Sukhada_Virkar\\venv\\lib\\site-packages\\seaborn\\distributions.py:2619: FutureWarning: `distplot` is a deprecated function and will be removed in a future version. Please adapt your code to use either `displot` (a figure-level function with similar flexibility) or `histplot` (an axes-level function for histograms).\n",
      "  warnings.warn(msg, FutureWarning)\n"
     ]
    },
    {
     "data": {
      "image/png": "[encoded data removed]",
      "text/plain": [
       "<Figure size 1152x360 with 1 Axes>"
      ]
     },
     "metadata": {
      "needs_background": "light"
     },
     "output_type": "display_data"
    }
   ],
   "source": [
    "#avg_glucose_level column distribution after removing outliers\n",
    "plt.figure(figsize=(16,5))\n",
    "plt.subplot(1,2,1)\n",
    "sns.distplot(df_new['avg_glucose_level'])\n",
    "plt.show()"
   ]
  },
  {
   "cell_type": "markdown",
   "id": "5823966f",
   "metadata": {},
   "source": [
    "## 4. Perform scaling on all numerical columns"
   ]
  },
  {
   "cell_type": "code",
   "execution_count": 350,
   "id": "06a7a922",
   "metadata": {},
   "outputs": [
    {
     "name": "stderr",
     "output_type": "stream",
     "text": [
      "C:\\Users\\svirka\\AppData\\Local\\Temp\\ipykernel_17348\\582356504.py:6: SettingWithCopyWarning: \n",
      "A value is trying to be set on a copy of a slice from a DataFrame.\n",
      "Try using .loc[row_indexer,col_indexer] = value instead\n",
      "\n",
      "See the caveats in the documentation: https://pandas.pydata.org/pandas-docs/stable/user_guide/indexing.html#returning-a-view-versus-a-copy\n",
      "  df_new[numeric_cols]=scaler.fit_transform(df_new[numeric_cols])\n"
     ]
    },
    {
     "data": {
      "text/html": [
       "<div>\n",
       "<style scoped>\n",
       "    .dataframe tbody tr th:only-of-type {\n",
       "        vertical-align: middle;\n",
       "    }\n",
       "\n",
       "    .dataframe tbody tr th {\n",
       "        vertical-align: top;\n",
       "    }\n",
       "\n",
       "    .dataframe thead th {\n",
       "        text-align: right;\n",
       "    }\n",
       "</style>\n",
       "<table border=\"1\" class=\"dataframe\">\n",
       "  <thead>\n",
       "    <tr style=\"text-align: right;\">\n",
       "      <th></th>\n",
       "      <th>id</th>\n",
       "      <th>gender</th>\n",
       "      <th>age</th>\n",
       "      <th>hypertension</th>\n",
       "      <th>heart_disease</th>\n",
       "      <th>ever_married</th>\n",
       "      <th>work_type</th>\n",
       "      <th>Residence_type</th>\n",
       "      <th>avg_glucose_level</th>\n",
       "      <th>bmi</th>\n",
       "      <th>smoking_status</th>\n",
       "      <th>stroke</th>\n",
       "    </tr>\n",
       "  </thead>\n",
       "  <tbody>\n",
       "    <tr>\n",
       "      <th>0</th>\n",
       "      <td>0.123214</td>\n",
       "      <td>Male</td>\n",
       "      <td>0.816895</td>\n",
       "      <td>0.0</td>\n",
       "      <td>1.0</td>\n",
       "      <td>Yes</td>\n",
       "      <td>Private</td>\n",
       "      <td>Urban</td>\n",
       "      <td>0.927289</td>\n",
       "      <td>0.626190</td>\n",
       "      <td>formerly smoked</td>\n",
       "      <td>1.0</td>\n",
       "    </tr>\n",
       "    <tr>\n",
       "      <th>1</th>\n",
       "      <td>0.708205</td>\n",
       "      <td>Female</td>\n",
       "      <td>0.743652</td>\n",
       "      <td>0.0</td>\n",
       "      <td>0.0</td>\n",
       "      <td>Yes</td>\n",
       "      <td>Self-employed</td>\n",
       "      <td>Rural</td>\n",
       "      <td>0.785821</td>\n",
       "      <td>0.442619</td>\n",
       "      <td>never smoked</td>\n",
       "      <td>1.0</td>\n",
       "    </tr>\n",
       "    <tr>\n",
       "      <th>2</th>\n",
       "      <td>0.426015</td>\n",
       "      <td>Male</td>\n",
       "      <td>0.975586</td>\n",
       "      <td>0.0</td>\n",
       "      <td>1.0</td>\n",
       "      <td>Yes</td>\n",
       "      <td>Private</td>\n",
       "      <td>Rural</td>\n",
       "      <td>0.271397</td>\n",
       "      <td>0.528571</td>\n",
       "      <td>never smoked</td>\n",
       "      <td>1.0</td>\n",
       "    </tr>\n",
       "    <tr>\n",
       "      <th>3</th>\n",
       "      <td>0.824928</td>\n",
       "      <td>Female</td>\n",
       "      <td>0.597168</td>\n",
       "      <td>0.0</td>\n",
       "      <td>0.0</td>\n",
       "      <td>Yes</td>\n",
       "      <td>Private</td>\n",
       "      <td>Urban</td>\n",
       "      <td>0.620312</td>\n",
       "      <td>0.573810</td>\n",
       "      <td>smokes</td>\n",
       "      <td>1.0</td>\n",
       "    </tr>\n",
       "    <tr>\n",
       "      <th>4</th>\n",
       "      <td>0.021929</td>\n",
       "      <td>Female</td>\n",
       "      <td>0.963379</td>\n",
       "      <td>1.0</td>\n",
       "      <td>0.0</td>\n",
       "      <td>Yes</td>\n",
       "      <td>Self-employed</td>\n",
       "      <td>Rural</td>\n",
       "      <td>0.635752</td>\n",
       "      <td>0.326190</td>\n",
       "      <td>never smoked</td>\n",
       "      <td>1.0</td>\n",
       "    </tr>\n",
       "  </tbody>\n",
       "</table>\n",
       "</div>"
      ],
      "text/plain": [
       "         id  gender       age  hypertension  heart_disease ever_married  \\\n",
       "0  0.123214    Male  0.816895           0.0            1.0          Yes   \n",
       "1  0.708205  Female  0.743652           0.0            0.0          Yes   \n",
       "2  0.426015    Male  0.975586           0.0            1.0          Yes   \n",
       "3  0.824928  Female  0.597168           0.0            0.0          Yes   \n",
       "4  0.021929  Female  0.963379           1.0            0.0          Yes   \n",
       "\n",
       "       work_type Residence_type  avg_glucose_level       bmi   smoking_status  \\\n",
       "0        Private          Urban           0.927289  0.626190  formerly smoked   \n",
       "1  Self-employed          Rural           0.785821  0.442619     never smoked   \n",
       "2        Private          Rural           0.271397  0.528571     never smoked   \n",
       "3        Private          Urban           0.620312  0.573810           smokes   \n",
       "4  Self-employed          Rural           0.635752  0.326190     never smoked   \n",
       "\n",
       "   stroke  \n",
       "0     1.0  \n",
       "1     1.0  \n",
       "2     1.0  \n",
       "3     1.0  \n",
       "4     1.0  "
      ]
     },
     "execution_count": 350,
     "metadata": {},
     "output_type": "execute_result"
    }
   ],
   "source": [
    "# Using min-max scaler\n",
    "from sklearn.preprocessing import MinMaxScaler\n",
    "\n",
    "scaler = MinMaxScaler()\n",
    "#scaling all numeric columns\n",
    "df_new[numeric_cols]=scaler.fit_transform(df_new[numeric_cols])\n",
    "\n",
    "df_new.head()"
   ]
  },
  {
   "cell_type": "markdown",
   "id": "a7963bac",
   "metadata": {},
   "source": [
    "## 5. Perform Encoding on all categorical columns"
   ]
  },
  {
   "cell_type": "code",
   "execution_count": 351,
   "id": "b94acd2b",
   "metadata": {},
   "outputs": [
    {
     "data": {
      "text/plain": [
       "Index(['id', 'gender', 'age', 'hypertension', 'heart_disease', 'ever_married',\n",
       "       'work_type', 'Residence_type', 'avg_glucose_level', 'bmi',\n",
       "       'smoking_status', 'stroke'],\n",
       "      dtype='object')"
      ]
     },
     "execution_count": 351,
     "metadata": {},
     "output_type": "execute_result"
    }
   ],
   "source": [
    "df_new.columns"
   ]
  },
  {
   "cell_type": "code",
   "execution_count": 352,
   "id": "45b2a407",
   "metadata": {},
   "outputs": [
    {
     "name": "stderr",
     "output_type": "stream",
     "text": [
      "C:\\Users\\svirka\\AppData\\Local\\Temp\\ipykernel_17348\\2103785846.py:7: SettingWithCopyWarning: \n",
      "A value is trying to be set on a copy of a slice from a DataFrame.\n",
      "Try using .loc[row_indexer,col_indexer] = value instead\n",
      "\n",
      "See the caveats in the documentation: https://pandas.pydata.org/pandas-docs/stable/user_guide/indexing.html#returning-a-view-versus-a-copy\n",
      "  df_new['hypertension']=lb.fit_transform(df_new['hypertension'])\n",
      "C:\\Users\\svirka\\AppData\\Local\\Temp\\ipykernel_17348\\2103785846.py:8: SettingWithCopyWarning: \n",
      "A value is trying to be set on a copy of a slice from a DataFrame.\n",
      "Try using .loc[row_indexer,col_indexer] = value instead\n",
      "\n",
      "See the caveats in the documentation: https://pandas.pydata.org/pandas-docs/stable/user_guide/indexing.html#returning-a-view-versus-a-copy\n",
      "  df_new['heart_disease']=lb.fit_transform(df_new['heart_disease'])\n",
      "C:\\Users\\svirka\\AppData\\Local\\Temp\\ipykernel_17348\\2103785846.py:9: SettingWithCopyWarning: \n",
      "A value is trying to be set on a copy of a slice from a DataFrame.\n",
      "Try using .loc[row_indexer,col_indexer] = value instead\n",
      "\n",
      "See the caveats in the documentation: https://pandas.pydata.org/pandas-docs/stable/user_guide/indexing.html#returning-a-view-versus-a-copy\n",
      "  df_new['ever_married']=lb.fit_transform(df_new['ever_married'])\n",
      "C:\\Users\\svirka\\AppData\\Local\\Temp\\ipykernel_17348\\2103785846.py:10: SettingWithCopyWarning: \n",
      "A value is trying to be set on a copy of a slice from a DataFrame.\n",
      "Try using .loc[row_indexer,col_indexer] = value instead\n",
      "\n",
      "See the caveats in the documentation: https://pandas.pydata.org/pandas-docs/stable/user_guide/indexing.html#returning-a-view-versus-a-copy\n",
      "  df_new['Residence_type']=lb.fit_transform(df_new['Residence_type'])\n",
      "C:\\Users\\svirka\\AppData\\Local\\Temp\\ipykernel_17348\\2103785846.py:11: SettingWithCopyWarning: \n",
      "A value is trying to be set on a copy of a slice from a DataFrame.\n",
      "Try using .loc[row_indexer,col_indexer] = value instead\n",
      "\n",
      "See the caveats in the documentation: https://pandas.pydata.org/pandas-docs/stable/user_guide/indexing.html#returning-a-view-versus-a-copy\n",
      "  df_new['gender']=lb.fit_transform(df_new['gender'])\n"
     ]
    }
   ],
   "source": [
    "#using label encoder for binary categorical columns\n",
    "from sklearn.preprocessing import LabelEncoder\n",
    "lb=LabelEncoder()\n",
    "\n",
    "binary_categ_cols=['hypertension','heart_disease','ever_married','Residence_type','gender']\n",
    "\n",
    "df_new['hypertension']=lb.fit_transform(df_new['hypertension'])\n",
    "df_new['heart_disease']=lb.fit_transform(df_new['heart_disease'])\n",
    "df_new['ever_married']=lb.fit_transform(df_new['ever_married'])\n",
    "df_new['Residence_type']=lb.fit_transform(df_new['Residence_type'])\n",
    "df_new['gender']=lb.fit_transform(df_new['gender'])\n"
   ]
  },
  {
   "cell_type": "code",
   "execution_count": 353,
   "id": "ce3d0bd4",
   "metadata": {},
   "outputs": [
    {
     "data": {
      "text/html": [
       "<div>\n",
       "<style scoped>\n",
       "    .dataframe tbody tr th:only-of-type {\n",
       "        vertical-align: middle;\n",
       "    }\n",
       "\n",
       "    .dataframe tbody tr th {\n",
       "        vertical-align: top;\n",
       "    }\n",
       "\n",
       "    .dataframe thead th {\n",
       "        text-align: right;\n",
       "    }\n",
       "</style>\n",
       "<table border=\"1\" class=\"dataframe\">\n",
       "  <thead>\n",
       "    <tr style=\"text-align: right;\">\n",
       "      <th></th>\n",
       "      <th>id</th>\n",
       "      <th>gender</th>\n",
       "      <th>age</th>\n",
       "      <th>hypertension</th>\n",
       "      <th>heart_disease</th>\n",
       "      <th>ever_married</th>\n",
       "      <th>work_type</th>\n",
       "      <th>Residence_type</th>\n",
       "      <th>avg_glucose_level</th>\n",
       "      <th>bmi</th>\n",
       "      <th>smoking_status</th>\n",
       "      <th>stroke</th>\n",
       "    </tr>\n",
       "  </thead>\n",
       "  <tbody>\n",
       "    <tr>\n",
       "      <th>0</th>\n",
       "      <td>0.123214</td>\n",
       "      <td>1</td>\n",
       "      <td>0.816895</td>\n",
       "      <td>0</td>\n",
       "      <td>1</td>\n",
       "      <td>1</td>\n",
       "      <td>Private</td>\n",
       "      <td>1</td>\n",
       "      <td>0.927289</td>\n",
       "      <td>0.626190</td>\n",
       "      <td>formerly smoked</td>\n",
       "      <td>1.0</td>\n",
       "    </tr>\n",
       "    <tr>\n",
       "      <th>1</th>\n",
       "      <td>0.708205</td>\n",
       "      <td>0</td>\n",
       "      <td>0.743652</td>\n",
       "      <td>0</td>\n",
       "      <td>0</td>\n",
       "      <td>1</td>\n",
       "      <td>Self-employed</td>\n",
       "      <td>0</td>\n",
       "      <td>0.785821</td>\n",
       "      <td>0.442619</td>\n",
       "      <td>never smoked</td>\n",
       "      <td>1.0</td>\n",
       "    </tr>\n",
       "    <tr>\n",
       "      <th>2</th>\n",
       "      <td>0.426015</td>\n",
       "      <td>1</td>\n",
       "      <td>0.975586</td>\n",
       "      <td>0</td>\n",
       "      <td>1</td>\n",
       "      <td>1</td>\n",
       "      <td>Private</td>\n",
       "      <td>0</td>\n",
       "      <td>0.271397</td>\n",
       "      <td>0.528571</td>\n",
       "      <td>never smoked</td>\n",
       "      <td>1.0</td>\n",
       "    </tr>\n",
       "    <tr>\n",
       "      <th>3</th>\n",
       "      <td>0.824928</td>\n",
       "      <td>0</td>\n",
       "      <td>0.597168</td>\n",
       "      <td>0</td>\n",
       "      <td>0</td>\n",
       "      <td>1</td>\n",
       "      <td>Private</td>\n",
       "      <td>1</td>\n",
       "      <td>0.620312</td>\n",
       "      <td>0.573810</td>\n",
       "      <td>smokes</td>\n",
       "      <td>1.0</td>\n",
       "    </tr>\n",
       "    <tr>\n",
       "      <th>4</th>\n",
       "      <td>0.021929</td>\n",
       "      <td>0</td>\n",
       "      <td>0.963379</td>\n",
       "      <td>1</td>\n",
       "      <td>0</td>\n",
       "      <td>1</td>\n",
       "      <td>Self-employed</td>\n",
       "      <td>0</td>\n",
       "      <td>0.635752</td>\n",
       "      <td>0.326190</td>\n",
       "      <td>never smoked</td>\n",
       "      <td>1.0</td>\n",
       "    </tr>\n",
       "  </tbody>\n",
       "</table>\n",
       "</div>"
      ],
      "text/plain": [
       "         id  gender       age  hypertension  heart_disease  ever_married  \\\n",
       "0  0.123214       1  0.816895             0              1             1   \n",
       "1  0.708205       0  0.743652             0              0             1   \n",
       "2  0.426015       1  0.975586             0              1             1   \n",
       "3  0.824928       0  0.597168             0              0             1   \n",
       "4  0.021929       0  0.963379             1              0             1   \n",
       "\n",
       "       work_type  Residence_type  avg_glucose_level       bmi  \\\n",
       "0        Private               1           0.927289  0.626190   \n",
       "1  Self-employed               0           0.785821  0.442619   \n",
       "2        Private               0           0.271397  0.528571   \n",
       "3        Private               1           0.620312  0.573810   \n",
       "4  Self-employed               0           0.635752  0.326190   \n",
       "\n",
       "    smoking_status  stroke  \n",
       "0  formerly smoked     1.0  \n",
       "1     never smoked     1.0  \n",
       "2     never smoked     1.0  \n",
       "3           smokes     1.0  \n",
       "4     never smoked     1.0  "
      ]
     },
     "execution_count": 353,
     "metadata": {},
     "output_type": "execute_result"
    }
   ],
   "source": [
    "df_new.head()"
   ]
  },
  {
   "cell_type": "code",
   "execution_count": 354,
   "id": "49b82cea",
   "metadata": {
    "scrolled": true
   },
   "outputs": [
    {
     "name": "stdout",
     "output_type": "stream",
     "text": [
      "            id  gender       age  hypertension  heart_disease  ever_married  \\\n",
      "0     0.123214       1  0.816895             0              1             1   \n",
      "1     0.708205       0  0.743652             0              0             1   \n",
      "2     0.426015       1  0.975586             0              1             1   \n",
      "3     0.824928       0  0.597168             0              0             1   \n",
      "4     0.021929       0  0.963379             1              0             1   \n",
      "...        ...     ...       ...           ...            ...           ...   \n",
      "5105  0.249297       0  0.975586             1              0             1   \n",
      "5106  0.614850       0  0.987793             0              0             1   \n",
      "5107  0.269730       0  0.426270             0              0             1   \n",
      "5108  0.514278       1  0.621582             0              0             1   \n",
      "5109  0.612188       0  0.536133             0              0             1   \n",
      "\n",
      "      Residence_type  avg_glucose_level       bmi  stroke  work_type_Govt_job  \\\n",
      "0                  1           0.927289  0.626190     1.0                   0   \n",
      "1                  0           0.785821  0.442619     1.0                   0   \n",
      "2                  0           0.271397  0.528571     1.0                   0   \n",
      "3                  1           0.620312  0.573810     1.0                   0   \n",
      "4                  0           0.635752  0.326190     1.0                   0   \n",
      "...              ...                ...       ...     ...                 ...   \n",
      "5105               1           0.152954  0.442619     0.0                   0   \n",
      "5106               1           0.374399  0.707143     0.0                   0   \n",
      "5107               0           0.148894  0.483333     0.0                   0   \n",
      "5108               0           0.593920  0.364286     0.0                   0   \n",
      "5109               1           0.161128  0.378571     0.0                   1   \n",
      "\n",
      "      work_type_Never_worked  work_type_Private  work_type_Self-employed  \\\n",
      "0                          0                  1                        0   \n",
      "1                          0                  0                        1   \n",
      "2                          0                  1                        0   \n",
      "3                          0                  1                        0   \n",
      "4                          0                  0                        1   \n",
      "...                      ...                ...                      ...   \n",
      "5105                       0                  1                        0   \n",
      "5106                       0                  0                        1   \n",
      "5107                       0                  0                        1   \n",
      "5108                       0                  1                        0   \n",
      "5109                       0                  0                        0   \n",
      "\n",
      "      work_type_children  smoking_status_Unknown  \\\n",
      "0                      0                       0   \n",
      "1                      0                       0   \n",
      "2                      0                       0   \n",
      "3                      0                       0   \n",
      "4                      0                       0   \n",
      "...                  ...                     ...   \n",
      "5105                   0                       0   \n",
      "5106                   0                       0   \n",
      "5107                   0                       0   \n",
      "5108                   0                       0   \n",
      "5109                   0                       1   \n",
      "\n",
      "      smoking_status_formerly smoked  smoking_status_never smoked  \\\n",
      "0                                  1                            0   \n",
      "1                                  0                            1   \n",
      "2                                  0                            1   \n",
      "3                                  0                            0   \n",
      "4                                  0                            1   \n",
      "...                              ...                          ...   \n",
      "5105                               0                            1   \n",
      "5106                               0                            1   \n",
      "5107                               0                            1   \n",
      "5108                               1                            0   \n",
      "5109                               0                            0   \n",
      "\n",
      "      smoking_status_smokes  \n",
      "0                         0  \n",
      "1                         0  \n",
      "2                         0  \n",
      "3                         1  \n",
      "4                         0  \n",
      "...                     ...  \n",
      "5105                      0  \n",
      "5106                      0  \n",
      "5107                      0  \n",
      "5108                      0  \n",
      "5109                      0  \n",
      "\n",
      "[5004 rows x 19 columns]\n"
     ]
    }
   ],
   "source": [
    "# Using one hot encoding for categorical columns with more than 2 categories\n",
    "categ_cols=['work_type','smoking_status']\n",
    "df_enc= pd.get_dummies(df_new, columns = categ_cols)\n",
    "print(df_enc)\n"
   ]
  },
  {
   "cell_type": "code",
   "execution_count": 357,
   "id": "d35dccf2",
   "metadata": {},
   "outputs": [
    {
     "data": {
      "text/html": [
       "<div>\n",
       "<style scoped>\n",
       "    .dataframe tbody tr th:only-of-type {\n",
       "        vertical-align: middle;\n",
       "    }\n",
       "\n",
       "    .dataframe tbody tr th {\n",
       "        vertical-align: top;\n",
       "    }\n",
       "\n",
       "    .dataframe thead th {\n",
       "        text-align: right;\n",
       "    }\n",
       "</style>\n",
       "<table border=\"1\" class=\"dataframe\">\n",
       "  <thead>\n",
       "    <tr style=\"text-align: right;\">\n",
       "      <th></th>\n",
       "      <th>id</th>\n",
       "      <th>gender</th>\n",
       "      <th>age</th>\n",
       "      <th>hypertension</th>\n",
       "      <th>heart_disease</th>\n",
       "      <th>ever_married</th>\n",
       "      <th>Residence_type</th>\n",
       "      <th>avg_glucose_level</th>\n",
       "      <th>bmi</th>\n",
       "      <th>stroke</th>\n",
       "      <th>work_type_Govt_job</th>\n",
       "      <th>work_type_Never_worked</th>\n",
       "      <th>work_type_Private</th>\n",
       "      <th>work_type_Self-employed</th>\n",
       "      <th>work_type_children</th>\n",
       "      <th>smoking_status_Unknown</th>\n",
       "      <th>smoking_status_formerly smoked</th>\n",
       "      <th>smoking_status_never smoked</th>\n",
       "      <th>smoking_status_smokes</th>\n",
       "    </tr>\n",
       "  </thead>\n",
       "  <tbody>\n",
       "    <tr>\n",
       "      <th>0</th>\n",
       "      <td>0.123214</td>\n",
       "      <td>1</td>\n",
       "      <td>0.816895</td>\n",
       "      <td>0</td>\n",
       "      <td>1</td>\n",
       "      <td>1</td>\n",
       "      <td>1</td>\n",
       "      <td>0.927289</td>\n",
       "      <td>0.626190</td>\n",
       "      <td>1.0</td>\n",
       "      <td>0</td>\n",
       "      <td>0</td>\n",
       "      <td>1</td>\n",
       "      <td>0</td>\n",
       "      <td>0</td>\n",
       "      <td>0</td>\n",
       "      <td>1</td>\n",
       "      <td>0</td>\n",
       "      <td>0</td>\n",
       "    </tr>\n",
       "    <tr>\n",
       "      <th>1</th>\n",
       "      <td>0.708205</td>\n",
       "      <td>0</td>\n",
       "      <td>0.743652</td>\n",
       "      <td>0</td>\n",
       "      <td>0</td>\n",
       "      <td>1</td>\n",
       "      <td>0</td>\n",
       "      <td>0.785821</td>\n",
       "      <td>0.442619</td>\n",
       "      <td>1.0</td>\n",
       "      <td>0</td>\n",
       "      <td>0</td>\n",
       "      <td>0</td>\n",
       "      <td>1</td>\n",
       "      <td>0</td>\n",
       "      <td>0</td>\n",
       "      <td>0</td>\n",
       "      <td>1</td>\n",
       "      <td>0</td>\n",
       "    </tr>\n",
       "    <tr>\n",
       "      <th>2</th>\n",
       "      <td>0.426015</td>\n",
       "      <td>1</td>\n",
       "      <td>0.975586</td>\n",
       "      <td>0</td>\n",
       "      <td>1</td>\n",
       "      <td>1</td>\n",
       "      <td>0</td>\n",
       "      <td>0.271397</td>\n",
       "      <td>0.528571</td>\n",
       "      <td>1.0</td>\n",
       "      <td>0</td>\n",
       "      <td>0</td>\n",
       "      <td>1</td>\n",
       "      <td>0</td>\n",
       "      <td>0</td>\n",
       "      <td>0</td>\n",
       "      <td>0</td>\n",
       "      <td>1</td>\n",
       "      <td>0</td>\n",
       "    </tr>\n",
       "    <tr>\n",
       "      <th>3</th>\n",
       "      <td>0.824928</td>\n",
       "      <td>0</td>\n",
       "      <td>0.597168</td>\n",
       "      <td>0</td>\n",
       "      <td>0</td>\n",
       "      <td>1</td>\n",
       "      <td>1</td>\n",
       "      <td>0.620312</td>\n",
       "      <td>0.573810</td>\n",
       "      <td>1.0</td>\n",
       "      <td>0</td>\n",
       "      <td>0</td>\n",
       "      <td>1</td>\n",
       "      <td>0</td>\n",
       "      <td>0</td>\n",
       "      <td>0</td>\n",
       "      <td>0</td>\n",
       "      <td>0</td>\n",
       "      <td>1</td>\n",
       "    </tr>\n",
       "    <tr>\n",
       "      <th>4</th>\n",
       "      <td>0.021929</td>\n",
       "      <td>0</td>\n",
       "      <td>0.963379</td>\n",
       "      <td>1</td>\n",
       "      <td>0</td>\n",
       "      <td>1</td>\n",
       "      <td>0</td>\n",
       "      <td>0.635752</td>\n",
       "      <td>0.326190</td>\n",
       "      <td>1.0</td>\n",
       "      <td>0</td>\n",
       "      <td>0</td>\n",
       "      <td>0</td>\n",
       "      <td>1</td>\n",
       "      <td>0</td>\n",
       "      <td>0</td>\n",
       "      <td>0</td>\n",
       "      <td>1</td>\n",
       "      <td>0</td>\n",
       "    </tr>\n",
       "  </tbody>\n",
       "</table>\n",
       "</div>"
      ],
      "text/plain": [
       "         id  gender       age  hypertension  heart_disease  ever_married  \\\n",
       "0  0.123214       1  0.816895             0              1             1   \n",
       "1  0.708205       0  0.743652             0              0             1   \n",
       "2  0.426015       1  0.975586             0              1             1   \n",
       "3  0.824928       0  0.597168             0              0             1   \n",
       "4  0.021929       0  0.963379             1              0             1   \n",
       "\n",
       "   Residence_type  avg_glucose_level       bmi  stroke  work_type_Govt_job  \\\n",
       "0               1           0.927289  0.626190     1.0                   0   \n",
       "1               0           0.785821  0.442619     1.0                   0   \n",
       "2               0           0.271397  0.528571     1.0                   0   \n",
       "3               1           0.620312  0.573810     1.0                   0   \n",
       "4               0           0.635752  0.326190     1.0                   0   \n",
       "\n",
       "   work_type_Never_worked  work_type_Private  work_type_Self-employed  \\\n",
       "0                       0                  1                        0   \n",
       "1                       0                  0                        1   \n",
       "2                       0                  1                        0   \n",
       "3                       0                  1                        0   \n",
       "4                       0                  0                        1   \n",
       "\n",
       "   work_type_children  smoking_status_Unknown  smoking_status_formerly smoked  \\\n",
       "0                   0                       0                               1   \n",
       "1                   0                       0                               0   \n",
       "2                   0                       0                               0   \n",
       "3                   0                       0                               0   \n",
       "4                   0                       0                               0   \n",
       "\n",
       "   smoking_status_never smoked  smoking_status_smokes  \n",
       "0                            0                      0  \n",
       "1                            1                      0  \n",
       "2                            1                      0  \n",
       "3                            0                      1  \n",
       "4                            1                      0  "
      ]
     },
     "execution_count": 357,
     "metadata": {},
     "output_type": "execute_result"
    }
   ],
   "source": [
    "df_enc.head()\n",
    "\n"
   ]
  },
  {
   "cell_type": "markdown",
   "id": "8aa04a7f",
   "metadata": {},
   "source": []
  },
  {
   "cell_type": "code",
   "execution_count": null,
   "id": "7cb15e5d",
   "metadata": {},
   "outputs": [],
   "source": []
  },
  {
   "cell_type": "code",
   "execution_count": 358,
   "id": "ffb06918",
   "metadata": {},
   "outputs": [
    {
     "data": {
      "text/plain": [
       "Index(['id', 'gender', 'age', 'hypertension', 'heart_disease', 'ever_married',\n",
       "       'Residence_type', 'avg_glucose_level', 'bmi', 'stroke',\n",
       "       'work_type_Govt_job', 'work_type_Never_worked', 'work_type_Private',\n",
       "       'work_type_Self-employed', 'work_type_children',\n",
       "       'smoking_status_Unknown', 'smoking_status_formerly smoked',\n",
       "       'smoking_status_never smoked', 'smoking_status_smokes'],\n",
       "      dtype='object')"
      ]
     },
     "execution_count": 358,
     "metadata": {},
     "output_type": "execute_result"
    }
   ],
   "source": [
    "df_enc.columns"
   ]
  },
  {
   "cell_type": "code",
   "execution_count": 360,
   "id": "41dd38d3",
   "metadata": {},
   "outputs": [],
   "source": [
    "df_enc.to_csv(\"healthcare_stroke_data_updated.csv\",index=False)"
   ]
  },
  {
   "cell_type": "code",
   "execution_count": null,
   "id": "48b79b3e",
   "metadata": {},
   "outputs": [],
   "source": []
  }
 ],
 "metadata": {
  "kernelspec": {
   "display_name": "Python 3 (ipykernel)",
   "language": "python",
   "name": "python3"
  },
  "language_info": {
   "codemirror_mode": {
    "name": "ipython",
    "version": 3
   },
   "file_extension": ".py",
   "mimetype": "text/x-python",
   "name": "python",
   "nbconvert_exporter": "python",
   "pygments_lexer": "ipython3",
   "version": "3.9.13"
  }
 },
 "nbformat": 4,
 "nbformat_minor": 5
}
